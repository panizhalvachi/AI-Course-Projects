{
 "cells": [
  {
   "cell_type": "markdown",
   "metadata": {},
   "source": [
    "<div align=center>\n",
    "\t\t\n",
    "<p></p>\n",
    "<p></p>\n",
    "<font size=5>\n",
    "In the Name of God\n",
    "<font/>\n",
    "<p></p>\n",
    " <br/>\n",
    "    <br/>\n",
    "    <br/>\n",
    "<font color=#FF7500>\n",
    "Sharif University of Technology - Departmenet of Computer Engineering\n",
    "</font>\n",
    "<p></p>\n",
    "<font color=blue>\n",
    "Artifical Intelligence - Dr. Mohammad Hossein Rohban\n",
    "</font>\n",
    "<br/>\n",
    "<br/>\n",
    "Fall 2021\n",
    "\n",
    "</div>\n",
    "\n",
    "<hr/>\n",
    "\t\t<div align=center>\n",
    "\t\t    <font color=red size=6>\n",
    "\t\t\t    <br />\n",
    "Practical Assignment 1\n",
    "            \t<br/>\n",
    "\t\t\t</font>\n",
    "    <br/>\n",
    "    <br/>\n",
    "<font size=4>\n",
    "\t\t\t<br/><br/>\n",
    "Deadline:  Aban 6th\n",
    "                <br/><b>\n",
    "              Cheating is Strongly Prohibited\n",
    "                </b><br/><br/>\n",
    "                <font color=red>\n",
    "Please run all the cells.\n",
    "     </font>\n",
    "</font>\n",
    "                <br/>\n",
    "    </div>"
   ]
  },
  {
   "cell_type": "markdown",
   "metadata": {},
   "source": [
    "# Personal Data"
   ]
  },
  {
   "cell_type": "code",
   "execution_count": 56,
   "metadata": {
    "collectable": true,
    "execution": {
     "iopub.execute_input": "2021-10-01T16:01:36.762477Z",
     "iopub.status.busy": "2021-10-01T16:01:36.762155Z",
     "iopub.status.idle": "2021-10-01T16:01:36.764025Z",
     "shell.execute_reply": "2021-10-01T16:01:36.763754Z"
    }
   },
   "outputs": [],
   "source": [
    "# Set your student number\n",
    "student_number = 98109729\n",
    "Name = 'Paniz'\n",
    "Last_Name = 'Halvachi'"
   ]
  },
  {
   "cell_type": "markdown",
   "metadata": {},
   "source": [
    "# Rules\n",
    "- You are not allowed to add or remove cells. You **must use the provided space to write your code**. If you don't follow this rule, **your Practical Assignment won't be graded**. \n",
    "- There is one cell for your custom functions (if you need any) at the beginning of each question. Please note that this jupyter file might be broken down into 3 or 4 jupyter notebooks for easier grading, so you **must write your custom functions in the correct cell**.\n",
    "- By running the cell below, you can see if your jupyter file is accepted or not. This cell will also **generate a python file which you'll have to upload to Quera** (as well as your jupyter file). The python file will later be validated and if the code in both files doesn't match, **your Practical Assignment won't be graded**.\n",
    "- This assignment is due Aban 6th 23:59:59. you can use up to 7 grace days for this assignment and the hard deadline is Aban 13th 23:59:59."
   ]
  },
  {
   "cell_type": "code",
   "execution_count": 57,
   "metadata": {},
   "outputs": [
    {
     "name": "stdout",
     "output_type": "stream",
     "text": [
      "your jupyter file will be graded\n"
     ]
    }
   ],
   "source": [
    "# remember to save your jupyter file before running this script\n",
    "from Helper_codes.validator import *\n",
    "\n",
    "python_code = extract_python(\"./questions.ipynb\")\n",
    "with open(f'python_code_{student_number}.py', 'w') as file:\n",
    "    file.write(python_code)"
   ]
  },
  {
   "cell_type": "markdown",
   "metadata": {},
   "source": [
    "# Q1 (20 Points)"
   ]
  },
  {
   "cell_type": "markdown",
   "metadata": {},
   "source": [
    "<font size=4>\n",
    "Author: Amin Meghrazi\n",
    "\t\t\t<br/>\n",
    "                <font color=red>\n",
    "Please run all the cells.\n",
    "     </font>\n",
    "</font>\n",
    "                <br/>\n",
    "    </div>"
   ]
  },
  {
   "cell_type": "code",
   "execution_count": null,
   "metadata": {
    "collectable": true
   },
   "outputs": [],
   "source": [
    "# place for your custom functions for Q1 here"
   ]
  },
  {
   "cell_type": "markdown",
   "metadata": {},
   "source": [
    "Amsterdam is a city with a large variety of flowers with several florists connected by bidirectional roads, each of which has a travel time. Each of the floristry may sell one or more kinds of flowers. Frank and Gorgi are brothers, and their mother is under a spell that will be broken by a bouquet of **k** different flower that **k** is the number of all types of flowers which are available in florists Amsterdam."
   ]
  },
  {
   "cell_type": "markdown",
   "metadata": {},
   "source": [
    "At first, Frank and Gorgi are at floristry 1 (each of the florists is numbered consecutively from 1 to **n**), and according to the situation, they should collect all types of flowers, and in order to save time, they will divide the list of flowers between them. Determine the total travel time for the boys to purchase all types of flowers, finally meeting at floristry **n**. Their paths may intersect, they may backtrack through floristry **n**, and one may arrive at a different time than the other. The minimum time to determine is when both have arrived at the destination."
   ]
  },
  {
   "cell_type": "markdown",
   "metadata": {},
   "source": [
    "For example,  there are **n = 5** florists selling **k = 3** types of flowers. The following graph shows a possible layout of the florists connected by **m = 5** paths. Each of nodes is labeled **floristry number / flower types offered / boy(s) that visit(s)**. Here **F** and **G** represent Frank and Gorgi, respectively. In this example, both of boys take the same path, i.e. **1 &#8594; 3 &#8594; 5** and arrive at time **15 + 5 = 20** having purchased all three types of flowers. Neither of them visits floristry **2** or **4**. <br/>\n",
    "<img src=\"Images/Blank_diagram.png\" width=\"400\"/>"
   ]
  },
  {
   "cell_type": "markdown",
   "metadata": {},
   "source": [
    "## Input Format"
   ]
  },
  {
   "cell_type": "markdown",
   "metadata": {},
   "source": [
    "The first line contains 3 space-seperated integers: <br/>\n",
    "**n**(the number of floristries in Amsterdam), **m**(the number of roads), and **k**(the number of flower types sold in Amsterdam), respectively.<br/>\n",
    "Each line **i** of the **n** subsequent lines ($1 \\leq i \\leq n$) describes a floristry as a line of space separated integers. Each line takes the following form: <br/>\n",
    "   * The first integer, $t_i$, denotes the number of flower types that are sold at floristry **i**.\n",
    "   * Each of the $t_i$ subsequent integers on the line describes a type of flower sold at floristry **i**, denoted by $S_{ij}$, where $1 \\leq j \\leq t_i$\n",
    "\n",
    "Each line **z** of the **m** subsequent lines ($1 \\leq j \\leq m$) contains 3 space-separated integers that describe a road. The first two integers, $u_z$ and $v_z$, describe the two florists it connects. The third integer, $w_z$, denotes the amount of time it takes to travel the road."
   ]
  },
  {
   "cell_type": "markdown",
   "metadata": {},
   "source": [
    "## Constraints\n",
    "\n",
    "* $ 2 \\leq n \\leq 10^3 $\n",
    "* $ 1 \\leq m \\leq 2 \\times 10^3 $\n",
    "* $ 1 \\leq k \\leq 10 $\n",
    "* $ 0 \\leq t_i \\leq k $\n",
    "* $ 1 \\leq S_{ij} \\leq k $\n",
    "* All $S_{ij}$ are different for every fixed *i*\n",
    "* $ 1 \\leq u_z , v_z \\leq n $\n",
    "* $ 1 \\leq w_z \\leq 10^4 $\n",
    "* Each road connects 2 distinct florists.\n",
    "* Each pair of florists is directly connected by no more than 1 road.\n",
    "* It's possible to get to any floristry from any other florist.\n",
    "* Each type of flower is always sold by at least one florist."
   ]
  },
  {
   "cell_type": "markdown",
   "metadata": {},
   "source": [
    "## Output Format"
   ]
  },
  {
   "cell_type": "markdown",
   "metadata": {},
   "source": [
    "Print the minimum amount of time it'll take for the boys to collectively purchase all **k** types of flowers and meet up at florist **n**."
   ]
  },
  {
   "cell_type": "markdown",
   "metadata": {},
   "source": [
    "## Sample Input"
   ]
  },
  {
   "cell_type": "markdown",
   "metadata": {},
   "source": [
    "5 5 5 <br/>\n",
    "1 1 <br/>\n",
    "1 2 <br/>\n",
    "1 3 <br/>\n",
    "1 4 <br/>\n",
    "1 5 <br/>\n",
    "1 2 10 <br/>\n",
    "1 3 10 <br/>\n",
    "2 4 10 <br/>\n",
    "3 5 10 <br/>\n",
    "4 5 10"
   ]
  },
  {
   "cell_type": "markdown",
   "metadata": {},
   "source": [
    "## Sample Output"
   ]
  },
  {
   "cell_type": "markdown",
   "metadata": {},
   "source": [
    "30"
   ]
  },
  {
   "cell_type": "markdown",
   "metadata": {},
   "source": [
    "## Explanation"
   ]
  },
  {
   "cell_type": "markdown",
   "metadata": {},
   "source": [
    "<img src=\"Images/diagram2.png\" width=\"400\"/>\n",
    "<br/>\n",
    "Frank can travel $1 \\rightarrow 2 \\rightarrow 4 \\rightarrow 5$ and buy flower at all of the florists on his way. <br/>\n",
    "Gorgi can travel $1 \\rightarrow 3 \\rightarrow 5$, and buy flower from the third florists only."
   ]
  },
  {
   "cell_type": "markdown",
   "metadata": {},
   "source": [
    "Now, You should implement the function **solve**.\n",
    "<br/> At last, Pay Attention that you have a **time limit of 9s** for each test that if your code exceeds that limit for any of these tests, you'll get **FAIL** for that test."
   ]
  },
  {
   "cell_type": "code",
   "execution_count": null,
   "metadata": {
    "collectable": true
   },
   "outputs": [],
   "source": [
    "def solve(N, M, K, NUMS, roads): \n",
    "    ###################################################################\n",
    "    # (Point: determined by number of passed test)                    #\n",
    "    # This function get input N, M, K, NUMS and roads                 #\n",
    "    # which N is number of floristries,                               #\n",
    "    # and M is number of roads,                                       #\n",
    "    # and K is number of flower types,                                #\n",
    "    # and NUMS are inventory of floristries,                          #\n",
    "    # and roads are the roads between two floristries.                #\n",
    "    # This function returns a number                                  #\n",
    "    # which represents minimum amount of time it'll take for the boys,#\n",
    "    # to collectively purchase all **k** types of flowers             #\n",
    "    # and meet up at floristry n                                      #\n",
    "    ###################################################################\n",
    "    pass"
   ]
  },
  {
   "cell_type": "markdown",
   "metadata": {},
   "source": [
    "## Grading"
   ]
  },
  {
   "cell_type": "markdown",
   "metadata": {},
   "source": [
    "By Running the below cell, you'd test your code with 10 test cases we gave to you, But be aware that there are more tests that will determine your grade in addition to these ten tests."
   ]
  },
  {
   "cell_type": "code",
   "execution_count": null,
   "metadata": {},
   "outputs": [],
   "source": [
    "import time\n",
    "\n",
    "pass_count = 0\n",
    "test_count = 10\n",
    "Time_Limit = 9\n",
    "for i in range(test_count):\n",
    "    print(\"Test\", (i + 1))\n",
    "    file_in_name = \"In\" + str(i + 1)\n",
    "    file_out_name = \"Out\" + str(i + 1)\n",
    "    f = open(\"Inputs/\" + file_in_name + \".txt\", 'r')\n",
    "    N, M, K = map(int, f.readline().split())\n",
    "    NUMS = []\n",
    "    roads = []\n",
    "    for i in range(N):\n",
    "        nums = list(map(int, f.readline().split()))\n",
    "        NUMS.append(nums)\n",
    "    for i in range(M):\n",
    "        road = list(map(int, f.readline().split()))\n",
    "        roads.append(road)\n",
    "    start_time = time.time()\n",
    "    result = solve(N, M, K, NUMS, roads)\n",
    "    end_time = time.time()\n",
    "    f_out = open(\"Outputs/\" + file_out_name + \".txt\", 'r')\n",
    "    true_output = int(f_out.read())\n",
    "    if result == true_output and Time_Limit >= end_time - start_time:\n",
    "        print(\"PASS.\", \"Your answer which is True: \", result, \". Time consumed: \", end_time - start_time, \"s\")\n",
    "        pass_count += 1\n",
    "    else:\n",
    "        print(\"FAIL!\", \"your minimum time: \", result, \"True answer: \", true_output, \". Time consumed: \", end_time - start_time, \"s\")\n",
    "        \n",
    "print(\"Percentage of success: \", (pass_count / test_count) * 100)"
   ]
  },
  {
   "cell_type": "markdown",
   "metadata": {},
   "source": [
    "# Q2 (20 Points)"
   ]
  },
  {
   "cell_type": "markdown",
   "metadata": {},
   "source": [
    "<font size=4>\n",
    "Author: Amin Meghrazi\n",
    "\t\t\t<br/>\n",
    "                <font color=red>\n",
    "Please run all the cells.\n",
    "     </font>\n",
    "</font>\n",
    "                <br/>\n",
    "    </div>"
   ]
  },
  {
   "cell_type": "code",
   "execution_count": 1,
   "metadata": {
    "collectable": true
   },
   "outputs": [],
   "source": [
    "# place for your custom functions for Q2 here\n",
    "import time"
   ]
  },
  {
   "cell_type": "markdown",
   "metadata": {},
   "source": [
    "In this Problem, We want to use A* algorithm to present a solution for an interesting game that we called it, Push Till Redemption. :) <br/>\n",
    "First, we introduce you to some major features of this game. <br/>"
   ]
  },
  {
   "cell_type": "markdown",
   "metadata": {},
   "source": [
    "In this game, we have a map with **M** $\\times$ **N** dimensions covered by a one-layer wall. i.e., The **M-2** $\\times$ **N-2** rectangle in the middle is our usable map. <br/>\n",
    "There are some boxes whose primary coordinates are specified at the start point, and also There are some specified cells which we call storage, and the most important thing is that we have an agent in this game that should push the boxes to locate them in the storage cells. In the general format of the game, each box can be placed in each storage, but sometimes our boxes may have restrictions. i.e., A specified box must be placed at specified storage. <br/>\n",
    "And the last feature of this game is its obstacles; We may have some fixed obstacles in some cells of the map, which our agent can't move to cells grides and obviously can't push the boxes to those cells too.."
   ]
  },
  {
   "cell_type": "markdown",
   "metadata": {},
   "source": [
    "For better inrtoduction, take a look at these two pictures. <br/>\n",
    "  <img src=\"Images/map1.png\" alt=\"example1\" style=\"float: left; margin-left: 120px; width:200px;height:300px;\"/>\n",
    "  <img src=\"Images/map2.png\"  style=\"float: left; margin-left: 250px; width:200px;height:300px;\"/>"
   ]
  },
  {
   "cell_type": "markdown",
   "metadata": {},
   "source": [
    "First, we should introduce symbols used in maps, In this Game, We use **#** for walls and obstacles, $*$ for boxes, **?** for the location of the agent, **-** for storage cell, and if our map had some restrictions, we highlight both the box and its corresponding storage cell with the same color. <br/>"
   ]
  },
  {
   "cell_type": "markdown",
   "metadata": {},
   "source": [
    "For more clarification, we give an example for defining the state of the game at the start point. Pay attention that this example corresponds to the left map. <br/>\n",
    "**An important point about defining state in this game is that we ignore border wall (i.e., two columns and two rows) in our input dimensions or coordinates.** <br/>\n",
    "Don't worry if you don't understand the meaning of some of these inputs or have some questions about them; They're completely explained if they were needed."
   ]
  },
  {
   "cell_type": "markdown",
   "metadata": {},
   "source": [
    "State(\"START\", 0, None, 4, 4,  # dimensions <br/>\n",
    "&nbsp;&nbsp;&nbsp;                (0, 3),  # agent <br/>\n",
    "&nbsp;&nbsp;&nbsp;                {(1, 2): 0, (1, 1): 1},  # boxes <br/>\n",
    "&nbsp;&nbsp;&nbsp;                {(2, 1): 0, (2, 2): 1},  # storage <br/>\n",
    "&nbsp;&nbsp;&nbsp;                frozenset(((0, 0), (1, 0), (3, 3))),  # obstacles <br/>\n",
    "&nbsp;&nbsp;&nbsp;                (frozenset(((2, 1),)), frozenset(((2, 2),))),  # restrictions, <br/>\n",
    "&nbsp;&nbsp;&nbsp;                {0: 'cyan', 1: 'magenta'},  # box colours <br/>\n",
    "&nbsp;&nbsp;&nbsp;                {0: 'cyan', 1: 'magenta'}  # storage colours <br/>\n",
    "&nbsp;&nbsp;&nbsp;                )"
   ]
  },
  {
   "cell_type": "markdown",
   "metadata": {},
   "source": [
    "You should implement an A* algorithm to solve this search problem and win the game in this question."
   ]
  },
  {
   "cell_type": "markdown",
   "metadata": {},
   "source": [
    "In this problem, we provide you with some of the files to complete the functionality of the game, which you can check out as you want to know more about this game and its properties. Still, for completing this task properly, It's not necessary to check them out, and this jupyter file contains sufficient description. Besides, We provide you with some of the functions to solve the problem. Some of them are complete, but some are incomplete, and you should complete them."
   ]
  },
  {
   "cell_type": "markdown",
   "metadata": {},
   "source": [
    "## Prerequisites"
   ]
  },
  {
   "cell_type": "code",
   "execution_count": 2,
   "metadata": {},
   "outputs": [],
   "source": [
    "import numpy as np\n",
    "import math\n",
    "from Helper_codes.search import *\n",
    "from Helper_codes.sokoban import PROBLEMS, sokoban_goal_state"
   ]
  },
  {
   "cell_type": "markdown",
   "metadata": {},
   "source": [
    "## Heuristics"
   ]
  },
  {
   "cell_type": "markdown",
   "metadata": {},
   "source": [
    "In this section, we want to investigate three different heuristics. So we explain all requirements, and you should implement these heuristics. <br/>\n",
    "These functions should take a game state and Return a numeric value that serves as an estimate of the state's distance to the goal. <br/>\n",
    "Each state has components like **boxes** and **storage**. <br/>\n",
    "**boxes:** A dictionary where the keys are the coordinates of each box, and the values are the index of that box which is equal to the index of that box's list of restrictions if it has restrictions. <br/>\n",
    "**storage:** A dictionary where the keys are the coordinates of each storage point, and the values are the index of that storage point."
   ]
  },
  {
   "cell_type": "markdown",
   "metadata": {},
   "source": [
    "### A. Displaced Boxes"
   ]
  },
  {
   "cell_type": "markdown",
   "metadata": {},
   "source": [
    "This heuristic is trivial and, of course, admissible. <br/>"
   ]
  },
  {
   "cell_type": "code",
   "execution_count": 3,
   "metadata": {
    "collectable": true
   },
   "outputs": [],
   "source": [
    "def heur_displaced(state):    \n",
    "    return  len(set(state.boxes).difference(set(state.storage)))  \n",
    "\n",
    "    #####################################################################\n",
    "    # (2 Points)                                                        #\n",
    "    # This function get input state which is a state of game,           #\n",
    "    # This function's output value is number of displaced boxes.        #\n",
    "    # i.e., Number of boxes which aren't in storage cells at this state.#                                          \n",
    "    #####################################################################"
   ]
  },
  {
   "cell_type": "markdown",
   "metadata": {},
   "source": [
    "Each state has a component named **restrictions**, a tuple of frozensets of valid storage coordinates for each box. **None** means that all storage locations are valid for each box. Also we know that index of each frozenset in this tuple (**state.restrictions**), is the value of corresponding **box** in dictionary of **state.boxes** . I recommend taking another look at the sample of states defining above."
   ]
  },
  {
   "cell_type": "markdown",
   "metadata": {},
   "source": [
    "Now with these explanations, you should implement Manhattan Distance and Euclidean Distance Heuristics."
   ]
  },
  {
   "cell_type": "markdown",
   "metadata": {},
   "source": [
    "### B. Manhattan Distance"
   ]
  },
  {
   "cell_type": "code",
   "execution_count": 4,
   "metadata": {
    "collectable": true
   },
   "outputs": [],
   "source": [
    "def heur_manhattan_distance(state):\n",
    "    manhattan_distance = 0\n",
    "    for index, box in enumerate(state.boxes):\n",
    "        if state.restrictions==None:\n",
    "            storage_coordinate = state.storage.keys()\n",
    "        else:\n",
    "            if state.restrictions[index] == None:\n",
    "                storage_coordinate = state.storage.keys()\n",
    "            else:\n",
    "                storage_coordinate = state.restrictions[index]\n",
    "        closest_storage = None\n",
    "        min_manhattan_distance = math.inf\n",
    "        for x2,y2 in storage_coordinate:\n",
    "            x1,y1 = box\n",
    "            d = abs(x2-x1) + abs(y2-y1)\n",
    "            if(d < min_manhattan_distance):\n",
    "                min_manhattan_distance = d\n",
    "        manhattan_distance += min_manhattan_distance\n",
    "    return manhattan_distance \n",
    "\n",
    "    ############################################################\n",
    "    # (4 Points)                                               #\n",
    "    # This function get input state which is a state of game,  #\n",
    "    # For implementation of this function, You should find     #\n",
    "    # the closest storage cell for each box and calculate      #\n",
    "    # the manhattan distance between them                      #\n",
    "    # and the Return value of this function                    # \n",
    "    # is sum of these shortest distances.                      #\n",
    "    ############################################################"
   ]
  },
  {
   "cell_type": "markdown",
   "metadata": {},
   "source": [
    "### C. Euclidean Distance"
   ]
  },
  {
   "cell_type": "code",
   "execution_count": 5,
   "metadata": {
    "collectable": true
   },
   "outputs": [],
   "source": [
    "def heur_euclidean_distance(state):\n",
    "    euclidean_distance = 0\n",
    "    for index, box in enumerate(state.boxes):\n",
    "        if state.restrictions==None:\n",
    "            storage_coordinate = state.storage.keys()\n",
    "        else:\n",
    "            if state.restrictions[index] == None:\n",
    "                storage_coordinate = state.storage.keys()\n",
    "            else:\n",
    "                storage_coordinate = state.restrictions[index]\n",
    "        closest_storage = None\n",
    "        min_euclidean_distance = math.inf\n",
    "        for storage in storage_coordinate:\n",
    "            d = math.dist(box,storage)\n",
    "            if(d < min_euclidean_distance):\n",
    "                min_euclidean_distance = d\n",
    "        euclidean_distance += min_euclidean_distance\n",
    "    return euclidean_distance      \n",
    "\n",
    "    ############################################################\n",
    "    # (4 Points)                                               #\n",
    "    # This function get input state which is a state of game,  #\n",
    "    # For implementation of this function, You should find     #\n",
    "    # the closest storage cell for each box and calculate      #\n",
    "    # the euclidean distance between them                      #\n",
    "    # and the Return value of this function                    # \n",
    "    # is sum of these shortest distances.                      #\n",
    "    ############################################################"
   ]
  },
  {
   "cell_type": "markdown",
   "metadata": {},
   "source": [
    "## Testing Heuristics"
   ]
  },
  {
   "cell_type": "markdown",
   "metadata": {},
   "source": [
    "In the given files, The common version of A* algorithm is available. By running the cells below, you could see the game's result for some different game states, which are ready for you through **PROBLEMS** and actually for different kinds of heuristics."
   ]
  },
  {
   "cell_type": "code",
   "execution_count": 6,
   "metadata": {},
   "outputs": [],
   "source": [
    "def common_astar(heur_func, P_flag):    \n",
    "    solved = 0\n",
    "    unsolved = []\n",
    "    counter = 0\n",
    "    percent = 0\n",
    "    print_path = P_flag\n",
    "    timebound = 2  # 2 second time limit for each problem\n",
    "    print(\"*************************************\")\n",
    "    print(\"Running A-star with\" + str(heur_func) + \"Heuristic\")\n",
    "\n",
    "    for i in range(0, 10):  # note that there are 40 problems in the set that has been provided.  We just run through 10 here for illustration.\n",
    "        print(\"*************************************\")\n",
    "        print(\"PROBLEM {}\".format(i))\n",
    "\n",
    "        s0 = PROBLEMS[i]  # Problems will get harder as i gets bigger\n",
    "\n",
    "        se = SearchEngine('astar', 'full')\n",
    "        se.init_search(s0, goal_fn=sokoban_goal_state, heur_fn=heur_func)\n",
    "        final = se.search(timebound)\n",
    "        \n",
    "        if final:\n",
    "            solved += 1\n",
    "            if print_path:\n",
    "                final.print_path()\n",
    "            \n",
    "        else:\n",
    "            unsolved.append(i)\n",
    "        counter += 1\n",
    "\n",
    "    if counter > 0:\n",
    "        percent = (solved / counter) * 100\n",
    "\n",
    "    print(\"*************************************\")\n",
    "    print(\"{} of {} problems ({} %) solved in less than {} seconds.\".format(solved, counter, percent, timebound))\n",
    "    print(\"Problems that remain unsolved in the set are Problems: {}\".format(unsolved))\n",
    "    print(\"*************************************\")"
   ]
  },
  {
   "cell_type": "markdown",
   "metadata": {},
   "source": [
    "Notice that the **common_astart** function get two inputs, one for determining the heuristic function and another boolean input, determines whether the final path of the solution needs to be drawn or not, So if you want to check the steps of the game, you should change that field to **True**."
   ]
  },
  {
   "cell_type": "code",
   "execution_count": 7,
   "metadata": {},
   "outputs": [
    {
     "name": "stdout",
     "output_type": "stream",
     "text": [
      "*************************************\n",
      "Running A-star with<function heur_displaced at 0x00000288FFB5D040>Heuristic\n",
      "*************************************\n",
      "PROBLEM 0\n",
      "Solution Found with cost of 23 in search time of 0.0625 sec\n",
      "Nodes expanded = 2344, states generated = 5790, states cycle check pruned = 3446, states cost bound pruned = 0\n",
      "*************************************\n",
      "PROBLEM 1\n",
      "Solution Found with cost of 35 in search time of 0.1875 sec\n",
      "Nodes expanded = 9510, states generated = 22322, states cycle check pruned = 12812, states cost bound pruned = 0\n",
      "*************************************\n",
      "PROBLEM 2\n",
      "Solution Found with cost of 27 in search time of 0.265625 sec\n",
      "Nodes expanded = 11134, states generated = 27805, states cycle check pruned = 16671, states cost bound pruned = 0\n",
      "*************************************\n",
      "PROBLEM 3\n",
      "Solution Found with cost of 20 in search time of 0.296875 sec\n",
      "Nodes expanded = 16990, states generated = 34778, states cycle check pruned = 17788, states cost bound pruned = 0\n",
      "*************************************\n",
      "PROBLEM 4\n",
      "Solution Found with cost of 41 in search time of 0.359375 sec\n",
      "Nodes expanded = 15705, states generated = 37176, states cycle check pruned = 21471, states cost bound pruned = 0\n",
      "*************************************\n",
      "PROBLEM 5\n",
      "Solution Found with cost of 41 in search time of 0.34375 sec\n",
      "Nodes expanded = 15705, states generated = 37176, states cycle check pruned = 21471, states cost bound pruned = 0\n",
      "*************************************\n",
      "PROBLEM 6\n",
      "TRACE: Search has exceeeded the time bound provided.\n",
      "Search Failed! No solution found.\n",
      "Nodes expanded = 87766, states generated = 195133, states cycle check pruned = 107367, states cost bound pruned = 0\n",
      "*************************************\n",
      "PROBLEM 7\n",
      "TRACE: Search has exceeeded the time bound provided.\n",
      "Search Failed! No solution found.\n",
      "Nodes expanded = 83007, states generated = 183849, states cycle check pruned = 100842, states cost bound pruned = 0\n",
      "*************************************\n",
      "PROBLEM 8\n",
      "TRACE: Search has exceeeded the time bound provided.\n",
      "Search Failed! No solution found.\n",
      "Nodes expanded = 77843, states generated = 135551, states cycle check pruned = 57708, states cost bound pruned = 0\n",
      "*************************************\n",
      "PROBLEM 9\n",
      "TRACE: Search has exceeeded the time bound provided.\n",
      "Search Failed! No solution found.\n",
      "Nodes expanded = 73472, states generated = 149535, states cycle check pruned = 76063, states cost bound pruned = 0\n",
      "*************************************\n",
      "6 of 10 problems (60.0 %) solved in less than 2 seconds.\n",
      "Problems that remain unsolved in the set are Problems: [6, 7, 8, 9]\n",
      "*************************************\n"
     ]
    }
   ],
   "source": [
    "common_astar(heur_displaced, False)"
   ]
  },
  {
   "cell_type": "code",
   "execution_count": 8,
   "metadata": {},
   "outputs": [
    {
     "name": "stdout",
     "output_type": "stream",
     "text": [
      "*************************************\n",
      "Running A-star with<function heur_manhattan_distance at 0x00000288FFB5D160>Heuristic\n",
      "*************************************\n",
      "PROBLEM 0\n",
      "Solution Found with cost of 23 in search time of 0.0625 sec\n",
      "Nodes expanded = 2358, states generated = 5684, states cycle check pruned = 3326, states cost bound pruned = 0\n",
      "*************************************\n",
      "PROBLEM 1\n",
      "Solution Found with cost of 35 in search time of 0.21875 sec\n",
      "Nodes expanded = 10230, states generated = 23590, states cycle check pruned = 13360, states cost bound pruned = 0\n",
      "*************************************\n",
      "PROBLEM 2\n",
      "Solution Found with cost of 27 in search time of 0.1875 sec\n",
      "Nodes expanded = 8910, states generated = 21090, states cycle check pruned = 12180, states cost bound pruned = 0\n",
      "*************************************\n",
      "PROBLEM 3\n",
      "Solution Found with cost of 20 in search time of 0.265625 sec\n",
      "Nodes expanded = 8876, states generated = 18584, states cycle check pruned = 9708, states cost bound pruned = 0\n",
      "*************************************\n",
      "PROBLEM 4\n",
      "Solution Found with cost of 41 in search time of 0.625 sec\n",
      "Nodes expanded = 14254, states generated = 34057, states cycle check pruned = 19803, states cost bound pruned = 0\n",
      "*************************************\n",
      "PROBLEM 5\n",
      "Solution Found with cost of 41 in search time of 0.375 sec\n",
      "Nodes expanded = 14254, states generated = 34057, states cycle check pruned = 19803, states cost bound pruned = 0\n",
      "*************************************\n",
      "PROBLEM 6\n",
      "TRACE: Search has exceeeded the time bound provided.\n",
      "Search Failed! No solution found.\n",
      "Nodes expanded = 73406, states generated = 155184, states cycle check pruned = 81778, states cost bound pruned = 0\n",
      "*************************************\n",
      "PROBLEM 7\n",
      "TRACE: Search has exceeeded the time bound provided.\n",
      "Search Failed! No solution found.\n",
      "Nodes expanded = 68424, states generated = 145889, states cycle check pruned = 77465, states cost bound pruned = 0\n",
      "*************************************\n",
      "PROBLEM 8\n",
      "TRACE: Search has exceeeded the time bound provided.\n",
      "Search Failed! No solution found.\n",
      "Nodes expanded = 70827, states generated = 127775, states cycle check pruned = 56948, states cost bound pruned = 0\n",
      "*************************************\n",
      "PROBLEM 9\n",
      "TRACE: Search has exceeeded the time bound provided.\n",
      "Search Failed! No solution found.\n",
      "Nodes expanded = 75190, states generated = 146983, states cycle check pruned = 71793, states cost bound pruned = 0\n",
      "*************************************\n",
      "6 of 10 problems (60.0 %) solved in less than 2 seconds.\n",
      "Problems that remain unsolved in the set are Problems: [6, 7, 8, 9]\n",
      "*************************************\n"
     ]
    }
   ],
   "source": [
    "common_astar(heur_manhattan_distance, False)"
   ]
  },
  {
   "cell_type": "code",
   "execution_count": 9,
   "metadata": {},
   "outputs": [
    {
     "name": "stdout",
     "output_type": "stream",
     "text": [
      "*************************************\n",
      "Running A-star with<function heur_euclidean_distance at 0x00000288FFB5D1F0>Heuristic\n",
      "*************************************\n",
      "PROBLEM 0\n",
      "Solution Found with cost of 23 in search time of 0.0625 sec\n",
      "Nodes expanded = 2403, states generated = 5924, states cycle check pruned = 3521, states cost bound pruned = 0\n",
      "*************************************\n",
      "PROBLEM 1\n",
      "Solution Found with cost of 35 in search time of 0.453125 sec\n",
      "Nodes expanded = 10639, states generated = 24532, states cycle check pruned = 13893, states cost bound pruned = 0\n",
      "*************************************\n",
      "PROBLEM 2\n",
      "Solution Found with cost of 27 in search time of 0.21875 sec\n",
      "Nodes expanded = 9801, states generated = 23911, states cycle check pruned = 14110, states cost bound pruned = 0\n",
      "*************************************\n",
      "PROBLEM 3\n",
      "Solution Found with cost of 20 in search time of 0.390625 sec\n",
      "Nodes expanded = 14021, states generated = 29041, states cycle check pruned = 15020, states cost bound pruned = 0\n",
      "*************************************\n",
      "PROBLEM 4\n",
      "Solution Found with cost of 41 in search time of 0.4375 sec\n",
      "Nodes expanded = 14513, states generated = 34471, states cycle check pruned = 19958, states cost bound pruned = 0\n",
      "*************************************\n",
      "PROBLEM 5\n",
      "Solution Found with cost of 41 in search time of 0.4375 sec\n",
      "Nodes expanded = 14513, states generated = 34471, states cycle check pruned = 19958, states cost bound pruned = 0\n",
      "*************************************\n",
      "PROBLEM 6\n",
      "TRACE: Search has exceeeded the time bound provided.\n",
      "Search Failed! No solution found.\n",
      "Nodes expanded = 72406, states generated = 156837, states cycle check pruned = 84431, states cost bound pruned = 0\n",
      "*************************************\n",
      "PROBLEM 7\n",
      "TRACE: Search has exceeeded the time bound provided.\n",
      "Search Failed! No solution found.\n",
      "Nodes expanded = 63013, states generated = 136154, states cycle check pruned = 73141, states cost bound pruned = 0\n",
      "*************************************\n",
      "PROBLEM 8\n",
      "TRACE: Search has exceeeded the time bound provided.\n",
      "Search Failed! No solution found.\n",
      "Nodes expanded = 65720, states generated = 116904, states cycle check pruned = 51184, states cost bound pruned = 0\n",
      "*************************************\n",
      "PROBLEM 9\n",
      "TRACE: Search has exceeeded the time bound provided.\n",
      "Search Failed! No solution found.\n",
      "Nodes expanded = 59934, states generated = 117485, states cycle check pruned = 57551, states cost bound pruned = 0\n",
      "*************************************\n",
      "6 of 10 problems (60.0 %) solved in less than 2 seconds.\n",
      "Problems that remain unsolved in the set are Problems: [6, 7, 8, 9]\n",
      "*************************************\n"
     ]
    }
   ],
   "source": [
    "common_astar(heur_euclidean_distance, False)"
   ]
  },
  {
   "cell_type": "markdown",
   "metadata": {},
   "source": [
    "Now that you have seen how your three heuristics perform in action, Please compare these three different heuristic functions from various aspects like **Search Time, Expanded Nodes, etc.** <br/>\n",
    "I want you to feel free about this comparison and act as you like. For example, you can just explain your points of view in the below cell or compare the performance of these three heuristic functions with some kind of charts or graphs and explain a little about your deduction. (There's no restriction about the type of charts or graphs)."
   ]
  },
  {
   "cell_type": "code",
   "execution_count": 10,
   "metadata": {
    "collectable": true
   },
   "outputs": [],
   "source": [
    "# in case you want to draw charts for your explanation"
   ]
  },
  {
   "cell_type": "markdown",
   "metadata": {},
   "source": [
    "<font color=blue>\n",
    "    (3 Points) <br/>\n",
    "Your Explanation goes here....\n",
    "</font>"
   ]
  },
  {
   "cell_type": "markdown",
   "metadata": {},
   "source": [
    "## Anytime weighted A*"
   ]
  },
  {
   "cell_type": "markdown",
   "metadata": {},
   "source": [
    "In this section, We want you to implement another A* algorithm which is named **anytime weighted A*** in this algorithm, and we take the initial state of the game, heuristic function, weight, and timebound as inputs which **weight** is the factor which determines the impact of heuristic in calculating f_value (g + w\\*h) and **timebound** is the number of seconds that we have for running this algorithm. And Output of this function is a **goal state of search** (if a goal is found), else **FALSE**. <br/>\n",
    "In this version of A*, we aim to find the optimal path and optimal goal. So while there is time, we call the search method of the search engine (**se**) and we look for a path with minimum cost and to save time, We use cost-bounder to prune states which have bigger f_value than the best path cost we found so far. Costbounder is a three tuple that is like (g_val, h_val, g_val + h_val) which each of these 3 are like limit for pruning successor state. Please pay attention that in this version, we prune only when the current final f is larger than best_path_cost<br/>\n",
    "As you can see in the function below, first we save the f_value function, which is affected by weight, into **wrapped_fval_function** then we make a search engine and call its **init_search**. <br/>\n",
    "For calculating goal value to compare with best path cost that was found, We use **final.gval + heur_fn(final)** which **final** is the goal state in case is found."
   ]
  },
  {
   "cell_type": "code",
   "execution_count": 47,
   "metadata": {},
   "outputs": [],
   "source": [
    "def fval_function(sN, weight):\n",
    "    \"\"\"\n",
    "    Provide a custom formula for f-value computation for Anytime Weighted A star.\n",
    "    Returns the fval of the state contained in the sNode.\n",
    "\n",
    "    @param sNode sN: A search node (containing a SokobanState)\n",
    "    @param float weight: Weight given by Anytime Weighted A star\n",
    "    @rtype: float\n",
    "    \"\"\"\n",
    "\n",
    "    return sN.gval + weight * sN.hval"
   ]
  },
  {
   "cell_type": "code",
   "execution_count": 51,
   "metadata": {
    "collectable": true
   },
   "outputs": [],
   "source": [
    "def anytime_weighted_astar(initial_state, heur_fn, weight=1., timebound=10):\n",
    "    # initialization\n",
    "    best_path_cost = float(\"inf\")\n",
    "    optimal_final = None\n",
    "    time_remain = 8\n",
    "    iter = 0\n",
    "\n",
    "    wrapped_fval_function = (lambda sN: fval_function(sN, weight))\n",
    "    se = SearchEngine('custom', 'full')\n",
    "    se.init_search(initial_state, sokoban_goal_state, heur_fn, wrapped_fval_function)\n",
    "\n",
    "     ################################################\n",
    "     # (4 Points)                                   #\n",
    "     # Complete this loop                           #\n",
    "     # with information we gave you before.         #\n",
    "     ################################################\n",
    "    \n",
    "    costbound = math.inf, math.inf , math.inf\n",
    "    while (time_remain > 0) and not se.open.empty():\n",
    "        start_time = time.time()\n",
    "        final = se.search(time_remain,costbound)\n",
    "        if final:\n",
    "            if final.gval < best_path_cost:\n",
    "                best_path_cost = final.gval\n",
    "                optimal_final = final\n",
    "            costbound = final.gval,final.gval,final.gval\n",
    "            end_time = time.time()  \n",
    "            time_remain = time_remain - (end_time - start_time)\n",
    "        else:\n",
    "            break\n",
    "    try:\n",
    "        return optimal_final\n",
    "    except:\n",
    "        return final\n",
    "\n",
    "    return False"
   ]
  },
  {
   "cell_type": "markdown",
   "metadata": {},
   "source": [
    "## Running the Game"
   ]
  },
  {
   "cell_type": "code",
   "execution_count": 52,
   "metadata": {},
   "outputs": [],
   "source": [
    "def run_astar(P_flag):\n",
    "    solved = 0\n",
    "    unsolved = []\n",
    "    counter = 0\n",
    "    percent = 0\n",
    "    print_path = P_flag\n",
    "    timebound = 8  # 8 second time limit\n",
    "    print(\"Running Anytime Weighted A-star\")\n",
    "\n",
    "    for i in range(0, 10):\n",
    "        print(\"*************************************\")\n",
    "        print(\"PROBLEM {}\".format(i))\n",
    "\n",
    "        s0 = PROBLEMS[i]  # Problems get harder as i gets bigger\n",
    "        weight = 10\n",
    "        final = anytime_weighted_astar(s0, heur_fn=heur_displaced, weight=weight, timebound=timebound)\n",
    "\n",
    "        if final:\n",
    "            solved += 1\n",
    "            if print_path:\n",
    "                final.print_path()\n",
    "        else:\n",
    "            unsolved.append(i)\n",
    "        counter += 1\n",
    "\n",
    "    if counter > 0:\n",
    "        percent = (solved / counter) * 100\n",
    "\n",
    "    print(\"*************************************\")\n",
    "    print(\"{} of {} problems ({} %) solved in less than {} seconds.\".format(solved, counter, percent, timebound))\n",
    "    print(\"Problems that remain unsolved in the set are Problems: {}\".format(unsolved))\n",
    "    print(\"*************************************\")"
   ]
  },
  {
   "cell_type": "markdown",
   "metadata": {},
   "source": [
    "Notice that the **run_astart** function get one input which is boolean. It determines whether the solution's final path is drawn or not, So if you want to check the steps of the game, you should change that field to **True**."
   ]
  },
  {
   "cell_type": "code",
   "execution_count": 53,
   "metadata": {},
   "outputs": [
    {
     "name": "stdout",
     "output_type": "stream",
     "text": [
      "Running Anytime Weighted A-star\n",
      "*************************************\n",
      "PROBLEM 0\n",
      "Solution Found with cost of 23 in search time of 0.046875 sec\n",
      "Nodes expanded = 1271, states generated = 2738, states cycle check pruned = 1467, states cost bound pruned = 0\n",
      "Search Failed! No solution found.\n",
      "Nodes expanded = 2409, states generated = 6152, states cycle check pruned = 3623, states cost bound pruned = 120\n",
      "*************************************\n",
      "PROBLEM 1\n",
      "Solution Found with cost of 37 in search time of 0.203125 sec\n",
      "Nodes expanded = 7971, states generated = 17752, states cycle check pruned = 9781, states cost bound pruned = 0\n",
      "Solution Found with cost of 37 in search time of 0.0 sec\n",
      "Nodes expanded = 8106, states generated = 18067, states cycle check pruned = 9949, states cost bound pruned = 12\n",
      "Solution Found with cost of 37 in search time of 0.0 sec\n",
      "Nodes expanded = 8226, states generated = 18348, states cycle check pruned = 10093, states cost bound pruned = 29\n",
      "Solution Found with cost of 35 in search time of 0.0625 sec\n",
      "Nodes expanded = 9785, states generated = 22251, states cycle check pruned = 12423, states cost bound pruned = 43\n",
      "Solution Found with cost of 35 in search time of 0.015625 sec\n",
      "Nodes expanded = 10007, states generated = 22825, states cycle check pruned = 12769, states cost bound pruned = 49\n",
      "Solution Found with cost of 35 in search time of 0.0 sec\n",
      "Nodes expanded = 10046, states generated = 22935, states cycle check pruned = 12834, states cost bound pruned = 55\n",
      "Search Failed! No solution found.\n",
      "Nodes expanded = 11076, states generated = 26636, states cycle check pruned = 15017, states cost bound pruned = 543\n",
      "*************************************\n",
      "PROBLEM 2\n",
      "Solution Found with cost of 27 in search time of 0.09375 sec\n",
      "Nodes expanded = 4567, states generated = 9888, states cycle check pruned = 5321, states cost bound pruned = 0\n",
      "Solution Found with cost of 27 in search time of 0.0 sec\n",
      "Nodes expanded = 4582, states generated = 9933, states cycle check pruned = 5349, states cost bound pruned = 2\n",
      "Solution Found with cost of 27 in search time of 0.0 sec\n",
      "Nodes expanded = 5035, states generated = 11165, states cycle check pruned = 6098, states cost bound pruned = 32\n",
      "Search Failed! No solution found.\n",
      "Nodes expanded = 11179, states generated = 29282, states cycle check pruned = 17349, states cost bound pruned = 754\n",
      "*************************************\n",
      "PROBLEM 3\n",
      "Solution Found with cost of 24 in search time of 0.015625 sec\n",
      "Nodes expanded = 265, states generated = 448, states cycle check pruned = 183, states cost bound pruned = 0\n",
      "Solution Found with cost of 24 in search time of 0.0 sec\n",
      "Nodes expanded = 318, states generated = 646, states cycle check pruned = 289, states cost bound pruned = 39\n",
      "Solution Found with cost of 24 in search time of 0.0 sec\n",
      "Nodes expanded = 378, states generated = 790, states cycle check pruned = 355, states cost bound pruned = 57\n",
      "Solution Found with cost of 24 in search time of 0.0 sec\n",
      "Nodes expanded = 422, states generated = 911, states cycle check pruned = 414, states cost bound pruned = 75\n",
      "Solution Found with cost of 24 in search time of 0.0 sec\n",
      "Nodes expanded = 480, states generated = 1067, states cycle check pruned = 490, states cost bound pruned = 97\n",
      "Solution Found with cost of 24 in search time of 0.0 sec\n",
      "Nodes expanded = 538, states generated = 1228, states cycle check pruned = 568, states cost bound pruned = 122\n",
      "Solution Found with cost of 24 in search time of 0.046875 sec\n",
      "Nodes expanded = 1724, states generated = 3955, states cycle check pruned = 1996, states cost bound pruned = 235\n",
      "Solution Found with cost of 24 in search time of 0.0 sec\n",
      "Nodes expanded = 1725, states generated = 3958, states cycle check pruned = 1997, states cost bound pruned = 236\n",
      "Solution Found with cost of 24 in search time of 0.0 sec\n",
      "Nodes expanded = 2177, states generated = 4847, states cycle check pruned = 2393, states cost bound pruned = 277\n",
      "Solution Found with cost of 24 in search time of 0.0 sec\n",
      "Nodes expanded = 2178, states generated = 4850, states cycle check pruned = 2394, states cost bound pruned = 278\n",
      "Solution Found with cost of 24 in search time of 0.015625 sec\n",
      "Nodes expanded = 2235, states generated = 4977, states cycle check pruned = 2460, states cost bound pruned = 282\n",
      "Solution Found with cost of 24 in search time of 0.0 sec\n",
      "Nodes expanded = 2236, states generated = 4980, states cycle check pruned = 2461, states cost bound pruned = 283\n",
      "Solution Found with cost of 24 in search time of 0.015625 sec\n",
      "Nodes expanded = 3384, states generated = 7237, states cycle check pruned = 3514, states cost bound pruned = 339\n",
      "Solution Found with cost of 24 in search time of 0.0 sec\n",
      "Nodes expanded = 3385, states generated = 7240, states cycle check pruned = 3515, states cost bound pruned = 340\n",
      "Solution Found with cost of 24 in search time of 0.015625 sec\n",
      "Nodes expanded = 3452, states generated = 7397, states cycle check pruned = 3597, states cost bound pruned = 348\n",
      "Solution Found with cost of 24 in search time of 0.0 sec\n",
      "Nodes expanded = 3453, states generated = 7400, states cycle check pruned = 3598, states cost bound pruned = 349\n",
      "Solution Found with cost of 24 in search time of 0.015625 sec\n",
      "Nodes expanded = 4373, states generated = 9226, states cycle check pruned = 4446, states cost bound pruned = 407\n",
      "Solution Found with cost of 24 in search time of 0.0 sec\n",
      "Nodes expanded = 4374, states generated = 9229, states cycle check pruned = 4447, states cost bound pruned = 408\n",
      "Solution Found with cost of 24 in search time of 0.0625 sec\n",
      "Nodes expanded = 4937, states generated = 13427, states cycle check pruned = 6752, states cost bound pruned = 1738\n",
      "Solution Found with cost of 24 in search time of 0.0 sec\n",
      "Nodes expanded = 4976, states generated = 13550, states cycle check pruned = 6825, states cost bound pruned = 1749\n",
      "Solution Found with cost of 24 in search time of 0.0 sec\n",
      "Nodes expanded = 5031, states generated = 13669, states cycle check pruned = 6883, states cost bound pruned = 1755\n",
      "Solution Found with cost of 24 in search time of 0.0 sec\n",
      "Nodes expanded = 5072, states generated = 13817, states cycle check pruned = 6973, states cost bound pruned = 1772\n",
      "Solution Found with cost of 24 in search time of 0.0 sec\n",
      "Nodes expanded = 5113, states generated = 13927, states cycle check pruned = 7039, states cost bound pruned = 1775\n",
      "Solution Found with cost of 24 in search time of 0.0 sec\n",
      "Nodes expanded = 5164, states generated = 14048, states cycle check pruned = 7099, states cost bound pruned = 1785\n",
      "Solution Found with cost of 24 in search time of 0.0625 sec\n",
      "Nodes expanded = 7043, states generated = 18115, states cycle check pruned = 9150, states cost bound pruned = 1922\n",
      "Solution Found with cost of 24 in search time of 0.0 sec\n",
      "Nodes expanded = 7044, states generated = 18121, states cycle check pruned = 9153, states cost bound pruned = 1924\n",
      "Solution Found with cost of 24 in search time of 0.0 sec\n",
      "Nodes expanded = 7113, states generated = 18248, states cycle check pruned = 9201, states cost bound pruned = 1934\n",
      "Solution Found with cost of 24 in search time of 0.0 sec\n",
      "Nodes expanded = 7114, states generated = 18254, states cycle check pruned = 9204, states cost bound pruned = 1936\n",
      "Solution Found with cost of 24 in search time of 0.0 sec\n",
      "Nodes expanded = 7623, states generated = 19244, states cycle check pruned = 9646, states cost bound pruned = 1975\n",
      "Solution Found with cost of 24 in search time of 0.0 sec\n",
      "Nodes expanded = 7624, states generated = 19250, states cycle check pruned = 9649, states cost bound pruned = 1977\n",
      "Solution Found with cost of 24 in search time of 0.0 sec\n",
      "Nodes expanded = 7702, states generated = 19417, states cycle check pruned = 9734, states cost bound pruned = 1981\n",
      "Solution Found with cost of 24 in search time of 0.0 sec\n",
      "Nodes expanded = 7703, states generated = 19423, states cycle check pruned = 9737, states cost bound pruned = 1983\n",
      "Solution Found with cost of 24 in search time of 0.015625 sec\n",
      "Nodes expanded = 8731, states generated = 21424, states cycle check pruned = 10641, states cost bound pruned = 2052\n",
      "Solution Found with cost of 24 in search time of 0.0 sec\n",
      "Nodes expanded = 8732, states generated = 21430, states cycle check pruned = 10644, states cost bound pruned = 2054\n",
      "Solution Found with cost of 24 in search time of 0.0 sec\n",
      "Nodes expanded = 8741, states generated = 21445, states cycle check pruned = 10648, states cost bound pruned = 2056\n",
      "Solution Found with cost of 24 in search time of 0.0 sec\n",
      "Nodes expanded = 8742, states generated = 21451, states cycle check pruned = 10651, states cost bound pruned = 2058\n",
      "Solution Found with cost of 24 in search time of 0.046875 sec\n",
      "Nodes expanded = 9167, states generated = 25205, states cycle check pruned = 12699, states cost bound pruned = 3339\n",
      "Solution Found with cost of 24 in search time of 0.0 sec\n",
      "Nodes expanded = 9168, states generated = 25208, states cycle check pruned = 12700, states cost bound pruned = 3340\n",
      "Solution Found with cost of 24 in search time of 0.0 sec\n",
      "Nodes expanded = 9186, states generated = 25245, states cycle check pruned = 12716, states cost bound pruned = 3343\n",
      "Solution Found with cost of 24 in search time of 0.0 sec\n",
      "Nodes expanded = 9187, states generated = 25248, states cycle check pruned = 12717, states cost bound pruned = 3344\n",
      "Solution Found with cost of 24 in search time of 0.0 sec\n",
      "Nodes expanded = 9199, states generated = 25273, states cycle check pruned = 12727, states cost bound pruned = 3347\n",
      "Solution Found with cost of 24 in search time of 0.0 sec\n",
      "Nodes expanded = 9200, states generated = 25276, states cycle check pruned = 12728, states cost bound pruned = 3348\n",
      "Solution Found with cost of 24 in search time of 0.0 sec\n",
      "Nodes expanded = 9210, states generated = 25297, states cycle check pruned = 12736, states cost bound pruned = 3351\n",
      "Solution Found with cost of 24 in search time of 0.0 sec\n",
      "Nodes expanded = 9211, states generated = 25300, states cycle check pruned = 12737, states cost bound pruned = 3352\n",
      "Solution Found with cost of 24 in search time of 0.0 sec\n",
      "Nodes expanded = 9218, states generated = 25316, states cycle check pruned = 12743, states cost bound pruned = 3355\n",
      "Solution Found with cost of 24 in search time of 0.0 sec\n",
      "Nodes expanded = 9219, states generated = 25319, states cycle check pruned = 12744, states cost bound pruned = 3356\n",
      "Solution Found with cost of 24 in search time of 0.0 sec\n",
      "Nodes expanded = 9233, states generated = 25348, states cycle check pruned = 12756, states cost bound pruned = 3359\n",
      "Solution Found with cost of 24 in search time of 0.0 sec\n",
      "Nodes expanded = 9234, states generated = 25351, states cycle check pruned = 12757, states cost bound pruned = 3360\n",
      "Solution Found with cost of 22 in search time of 0.0 sec\n",
      "Nodes expanded = 9305, states generated = 25624, states cycle check pruned = 12897, states cost bound pruned = 3422\n",
      "Solution Found with cost of 22 in search time of 0.015625 sec\n",
      "Nodes expanded = 9548, states generated = 26383, states cycle check pruned = 13317, states cost bound pruned = 3518\n",
      "Solution Found with cost of 22 in search time of 0.0 sec\n",
      "Nodes expanded = 9549, states generated = 26389, states cycle check pruned = 13319, states cost bound pruned = 3521\n",
      "Solution Found with cost of 22 in search time of 0.0 sec\n",
      "Nodes expanded = 9611, states generated = 26568, states cycle check pruned = 13409, states cost bound pruned = 3548\n",
      "Solution Found with cost of 22 in search time of 0.0 sec\n",
      "Nodes expanded = 9938, states generated = 27489, states cycle check pruned = 13932, states cost bound pruned = 3619\n",
      "Solution Found with cost of 22 in search time of 0.015625 sec\n",
      "Nodes expanded = 10301, states generated = 28415, states cycle check pruned = 14439, states cost bound pruned = 3675\n",
      "Solution Found with cost of 22 in search time of 0.0 sec\n",
      "Nodes expanded = 10302, states generated = 28418, states cycle check pruned = 14440, states cost bound pruned = 3676\n",
      "Solution Found with cost of 22 in search time of 0.015625 sec\n",
      "Nodes expanded = 10546, states generated = 29075, states cycle check pruned = 14794, states cost bound pruned = 3735\n",
      "Solution Found with cost of 22 in search time of 0.0 sec\n",
      "Nodes expanded = 10547, states generated = 29078, states cycle check pruned = 14795, states cost bound pruned = 3736\n",
      "Solution Found with cost of 22 in search time of 0.0 sec\n",
      "Nodes expanded = 10625, states generated = 29284, states cycle check pruned = 14900, states cost bound pruned = 3759\n",
      "Solution Found with cost of 22 in search time of 0.0 sec\n",
      "Nodes expanded = 10626, states generated = 29290, states cycle check pruned = 14903, states cost bound pruned = 3761\n",
      "Solution Found with cost of 22 in search time of 0.0 sec\n",
      "Nodes expanded = 10662, states generated = 29410, states cycle check pruned = 14964, states cost bound pruned = 3784\n",
      "Solution Found with cost of 22 in search time of 0.03125 sec\n",
      "Nodes expanded = 11670, states generated = 31810, states cycle check pruned = 16284, states cost bound pruned = 3856\n",
      "Solution Found with cost of 22 in search time of 0.0 sec\n",
      "Nodes expanded = 11671, states generated = 31816, states cycle check pruned = 16288, states cost bound pruned = 3857\n",
      "Solution Found with cost of 22 in search time of 0.0 sec\n",
      "Nodes expanded = 11738, states generated = 31996, states cycle check pruned = 16380, states cost bound pruned = 3878\n",
      "Solution Found with cost of 22 in search time of 0.0 sec\n",
      "Nodes expanded = 11739, states generated = 32002, states cycle check pruned = 16384, states cost bound pruned = 3879\n",
      "Solution Found with cost of 22 in search time of 0.0 sec\n",
      "Nodes expanded = 11777, states generated = 32127, states cycle check pruned = 16447, states cost bound pruned = 3903\n",
      "Solution Found with cost of 22 in search time of 0.0 sec\n",
      "Nodes expanded = 11935, states generated = 32565, states cycle check pruned = 16702, states cost bound pruned = 3928\n",
      "Solution Found with cost of 22 in search time of 0.0 sec\n",
      "Nodes expanded = 11936, states generated = 32571, states cycle check pruned = 16706, states cost bound pruned = 3929\n",
      "Solution Found with cost of 22 in search time of 0.0 sec\n",
      "Nodes expanded = 11967, states generated = 32684, states cycle check pruned = 16764, states cost bound pruned = 3953\n",
      "Solution Found with cost of 22 in search time of 0.015625 sec\n",
      "Nodes expanded = 12090, states generated = 33057, states cycle check pruned = 16986, states cost bound pruned = 3981\n",
      "Solution Found with cost of 22 in search time of 0.09375 sec\n",
      "Nodes expanded = 15100, states generated = 40223, states cycle check pruned = 20610, states cost bound pruned = 4513\n",
      "Solution Found with cost of 22 in search time of 0.0 sec\n",
      "Nodes expanded = 15194, states generated = 40516, states cycle check pruned = 20797, states cost bound pruned = 4525\n",
      "Solution Found with cost of 22 in search time of 0.0 sec\n",
      "Nodes expanded = 15305, states generated = 40849, states cycle check pruned = 21010, states cost bound pruned = 4534\n",
      "Solution Found with cost of 22 in search time of 0.0 sec\n",
      "Nodes expanded = 15306, states generated = 40852, states cycle check pruned = 21011, states cost bound pruned = 4535\n",
      "Solution Found with cost of 22 in search time of 0.0 sec\n",
      "Nodes expanded = 15352, states generated = 40988, states cycle check pruned = 21087, states cost bound pruned = 4549\n",
      "Solution Found with cost of 22 in search time of 0.015625 sec\n",
      "Nodes expanded = 15474, states generated = 41344, states cycle check pruned = 21309, states cost bound pruned = 4561\n",
      "Solution Found with cost of 22 in search time of 0.0 sec\n",
      "Nodes expanded = 15475, states generated = 41347, states cycle check pruned = 21310, states cost bound pruned = 4562\n",
      "Solution Found with cost of 22 in search time of 0.0 sec\n",
      "Nodes expanded = 15539, states generated = 41516, states cycle check pruned = 21404, states cost bound pruned = 4573\n",
      "Solution Found with cost of 22 in search time of 0.0 sec\n",
      "Nodes expanded = 15540, states generated = 41519, states cycle check pruned = 21405, states cost bound pruned = 4574\n",
      "Solution Found with cost of 22 in search time of 0.125 sec\n",
      "Nodes expanded = 19654, states generated = 51472, states cycle check pruned = 26950, states cost bound pruned = 4868\n",
      "Solution Found with cost of 22 in search time of 0.0 sec\n",
      "Nodes expanded = 19655, states generated = 51478, states cycle check pruned = 26954, states cost bound pruned = 4869\n",
      "Solution Found with cost of 22 in search time of 0.0 sec\n",
      "Nodes expanded = 19685, states generated = 51535, states cycle check pruned = 26979, states cost bound pruned = 4871\n",
      "Solution Found with cost of 22 in search time of 0.0 sec\n",
      "Nodes expanded = 19686, states generated = 51541, states cycle check pruned = 26983, states cost bound pruned = 4872\n",
      "Solution Found with cost of 22 in search time of 0.0 sec\n",
      "Nodes expanded = 19951, states generated = 52041, states cycle check pruned = 27199, states cost bound pruned = 4891\n",
      "Solution Found with cost of 22 in search time of 0.0 sec\n",
      "Nodes expanded = 19952, states generated = 52047, states cycle check pruned = 27203, states cost bound pruned = 4892\n",
      "Solution Found with cost of 22 in search time of 0.0 sec\n",
      "Nodes expanded = 19962, states generated = 52072, states cycle check pruned = 27216, states cost bound pruned = 4894\n",
      "Solution Found with cost of 22 in search time of 0.0 sec\n",
      "Nodes expanded = 19963, states generated = 52078, states cycle check pruned = 27220, states cost bound pruned = 4895\n",
      "Solution Found with cost of 22 in search time of 0.03125 sec\n",
      "Nodes expanded = 21141, states generated = 55195, states cycle check pruned = 28711, states cost bound pruned = 5343\n",
      "Solution Found with cost of 22 in search time of 0.015625 sec\n",
      "Nodes expanded = 21937, states generated = 57024, states cycle check pruned = 29645, states cost bound pruned = 5442\n",
      "Solution Found with cost of 22 in search time of 0.0 sec\n",
      "Nodes expanded = 21938, states generated = 57027, states cycle check pruned = 29646, states cost bound pruned = 5443\n",
      "Solution Found with cost of 22 in search time of 0.0 sec\n",
      "Nodes expanded = 21945, states generated = 57043, states cycle check pruned = 29653, states cost bound pruned = 5445\n",
      "Solution Found with cost of 22 in search time of 0.0 sec\n",
      "Nodes expanded = 21946, states generated = 57046, states cycle check pruned = 29654, states cost bound pruned = 5446\n",
      "Solution Found with cost of 22 in search time of 0.015625 sec\n",
      "Nodes expanded = 22185, states generated = 57496, states cycle check pruned = 29850, states cost bound pruned = 5461\n",
      "Solution Found with cost of 22 in search time of 0.0 sec\n",
      "Nodes expanded = 22186, states generated = 57499, states cycle check pruned = 29851, states cost bound pruned = 5462\n",
      "Solution Found with cost of 22 in search time of 0.0 sec\n",
      "Nodes expanded = 22216, states generated = 57579, states cycle check pruned = 29897, states cost bound pruned = 5466\n",
      "Solution Found with cost of 22 in search time of 0.0 sec\n",
      "Nodes expanded = 22217, states generated = 57582, states cycle check pruned = 29898, states cost bound pruned = 5467\n",
      "Solution Found with cost of 22 in search time of 0.015625 sec\n",
      "Nodes expanded = 23302, states generated = 60525, states cycle check pruned = 31306, states cost bound pruned = 5917\n",
      "Solution Found with cost of 22 in search time of 0.046875 sec\n",
      "Nodes expanded = 24385, states generated = 63111, states cycle check pruned = 32675, states cost bound pruned = 6051\n",
      "Solution Found with cost of 22 in search time of 0.0 sec\n",
      "Nodes expanded = 24852, states generated = 64209, states cycle check pruned = 33229, states cost bound pruned = 6128\n",
      "Solution Found with cost of 22 in search time of 0.03125 sec\n",
      "Nodes expanded = 25490, states generated = 65671, states cycle check pruned = 33984, states cost bound pruned = 6197\n",
      "Solution Found with cost of 22 in search time of 0.0 sec\n",
      "Nodes expanded = 25491, states generated = 65677, states cycle check pruned = 33989, states cost bound pruned = 6197\n",
      "Solution Found with cost of 22 in search time of 0.0 sec\n",
      "Nodes expanded = 25511, states generated = 65722, states cycle check pruned = 34012, states cost bound pruned = 6199\n",
      "Solution Found with cost of 22 in search time of 0.0 sec\n",
      "Nodes expanded = 25512, states generated = 65728, states cycle check pruned = 34017, states cost bound pruned = 6199\n",
      "Solution Found with cost of 22 in search time of 0.0 sec\n",
      "Nodes expanded = 25761, states generated = 66194, states cycle check pruned = 34220, states cost bound pruned = 6213\n",
      "Solution Found with cost of 22 in search time of 0.0 sec\n",
      "Nodes expanded = 25762, states generated = 66200, states cycle check pruned = 34225, states cost bound pruned = 6213\n",
      "Solution Found with cost of 22 in search time of 0.0 sec\n",
      "Nodes expanded = 25789, states generated = 66265, states cycle check pruned = 34262, states cost bound pruned = 6214\n",
      "Solution Found with cost of 22 in search time of 0.0 sec\n",
      "Nodes expanded = 25790, states generated = 66271, states cycle check pruned = 34267, states cost bound pruned = 6214\n",
      "Solution Found with cost of 22 in search time of 0.046875 sec\n",
      "Nodes expanded = 27145, states generated = 69782, states cycle check pruned = 35999, states cost bound pruned = 6638\n",
      "Solution Found with cost of 22 in search time of 0.0 sec\n",
      "Nodes expanded = 27146, states generated = 69785, states cycle check pruned = 36001, states cost bound pruned = 6638\n",
      "Solution Found with cost of 22 in search time of 0.0 sec\n",
      "Nodes expanded = 27195, states generated = 69873, states cycle check pruned = 36039, states cost bound pruned = 6639\n",
      "Solution Found with cost of 22 in search time of 0.0 sec\n",
      "Nodes expanded = 27196, states generated = 69876, states cycle check pruned = 36041, states cost bound pruned = 6639\n",
      "Solution Found with cost of 22 in search time of 0.0 sec\n",
      "Nodes expanded = 27407, states generated = 70295, states cycle check pruned = 36237, states cost bound pruned = 6651\n",
      "Solution Found with cost of 22 in search time of 0.0 sec\n",
      "Nodes expanded = 27408, states generated = 70298, states cycle check pruned = 36239, states cost bound pruned = 6651\n",
      "Solution Found with cost of 22 in search time of 0.015625 sec\n",
      "Nodes expanded = 27460, states generated = 70399, states cycle check pruned = 36286, states cost bound pruned = 6653\n",
      "Solution Found with cost of 22 in search time of 0.0 sec\n",
      "Nodes expanded = 27461, states generated = 70402, states cycle check pruned = 36288, states cost bound pruned = 6653\n",
      "Solution Found with cost of 22 in search time of 0.140625 sec\n",
      "Nodes expanded = 31902, states generated = 81566, states cycle check pruned = 42302, states cost bound pruned = 7362\n",
      "Solution Found with cost of 22 in search time of 0.0 sec\n",
      "Nodes expanded = 31903, states generated = 81572, states cycle check pruned = 42307, states cost bound pruned = 7362\n",
      "Solution Found with cost of 22 in search time of 0.0 sec\n",
      "Nodes expanded = 31910, states generated = 81599, states cycle check pruned = 42326, states cost bound pruned = 7363\n",
      "Solution Found with cost of 22 in search time of 0.0 sec\n",
      "Nodes expanded = 31911, states generated = 81605, states cycle check pruned = 42331, states cost bound pruned = 7363\n",
      "Solution Found with cost of 22 in search time of 0.0 sec\n",
      "Nodes expanded = 31918, states generated = 81622, states cycle check pruned = 42340, states cost bound pruned = 7364\n",
      "Solution Found with cost of 22 in search time of 0.0 sec\n",
      "Nodes expanded = 31919, states generated = 81628, states cycle check pruned = 42345, states cost bound pruned = 7364\n",
      "Solution Found with cost of 22 in search time of 0.0 sec\n",
      "Nodes expanded = 31926, states generated = 81648, states cycle check pruned = 42357, states cost bound pruned = 7365\n",
      "Solution Found with cost of 22 in search time of 0.0 sec\n",
      "Nodes expanded = 31927, states generated = 81654, states cycle check pruned = 42362, states cost bound pruned = 7365\n",
      "Solution Found with cost of 22 in search time of 0.0 sec\n",
      "Nodes expanded = 31934, states generated = 81687, states cycle check pruned = 42387, states cost bound pruned = 7366\n",
      "Solution Found with cost of 22 in search time of 0.0 sec\n",
      "Nodes expanded = 31935, states generated = 81693, states cycle check pruned = 42392, states cost bound pruned = 7366\n",
      "Solution Found with cost of 22 in search time of 0.0 sec\n",
      "Nodes expanded = 31942, states generated = 81706, states cycle check pruned = 42397, states cost bound pruned = 7367\n",
      "Solution Found with cost of 22 in search time of 0.0 sec\n",
      "Nodes expanded = 31943, states generated = 81712, states cycle check pruned = 42402, states cost bound pruned = 7367\n",
      "Solution Found with cost of 20 in search time of 0.0 sec\n",
      "Nodes expanded = 31969, states generated = 81778, states cycle check pruned = 42441, states cost bound pruned = 7368\n",
      "Solution Found with cost of 20 in search time of 0.0 sec\n",
      "Nodes expanded = 31970, states generated = 81784, states cycle check pruned = 42443, states cost bound pruned = 7371\n",
      "Solution Found with cost of 20 in search time of 0.03125 sec\n",
      "Nodes expanded = 32207, states generated = 83539, states cycle check pruned = 43430, states cost bound pruned = 7902\n",
      "Solution Found with cost of 20 in search time of 0.0 sec\n",
      "Nodes expanded = 32208, states generated = 83542, states cycle check pruned = 43431, states cost bound pruned = 7903\n",
      "Solution Found with cost of 20 in search time of 0.015625 sec\n",
      "Nodes expanded = 32407, states generated = 84384, states cycle check pruned = 43895, states cost bound pruned = 8082\n",
      "Solution Found with cost of 20 in search time of 0.0 sec\n",
      "Nodes expanded = 32408, states generated = 84390, states cycle check pruned = 43897, states cost bound pruned = 8085\n",
      "Solution Found with cost of 20 in search time of 0.015625 sec\n",
      "Nodes expanded = 32661, states generated = 85690, states cycle check pruned = 44595, states cost bound pruned = 8434\n",
      "Solution Found with cost of 20 in search time of 0.0 sec\n",
      "Nodes expanded = 32662, states generated = 85693, states cycle check pruned = 44596, states cost bound pruned = 8435\n",
      "Solution Found with cost of 20 in search time of 0.015625 sec\n",
      "Nodes expanded = 32827, states generated = 86992, states cycle check pruned = 45315, states cost bound pruned = 8850\n",
      "Solution Found with cost of 20 in search time of 0.0 sec\n",
      "Nodes expanded = 32828, states generated = 86998, states cycle check pruned = 45317, states cost bound pruned = 8853\n",
      "Solution Found with cost of 20 in search time of 0.0 sec\n",
      "Nodes expanded = 33010, states generated = 87645, states cycle check pruned = 45682, states cost bound pruned = 8953\n",
      "Solution Found with cost of 20 in search time of 0.0 sec\n",
      "Nodes expanded = 33011, states generated = 87648, states cycle check pruned = 45683, states cost bound pruned = 8954\n",
      "Solution Found with cost of 20 in search time of 0.015625 sec\n",
      "Nodes expanded = 33152, states generated = 88532, states cycle check pruned = 46160, states cost bound pruned = 9220\n",
      "Solution Found with cost of 20 in search time of 0.0 sec\n",
      "Nodes expanded = 33153, states generated = 88538, states cycle check pruned = 46162, states cost bound pruned = 9223\n",
      "Solution Found with cost of 20 in search time of 0.015625 sec\n",
      "Nodes expanded = 33508, states generated = 90140, states cycle check pruned = 47075, states cost bound pruned = 9557\n",
      "Solution Found with cost of 20 in search time of 0.0 sec\n",
      "Nodes expanded = 33509, states generated = 90146, states cycle check pruned = 47077, states cost bound pruned = 9560\n",
      "Solution Found with cost of 20 in search time of 0.0 sec\n",
      "Nodes expanded = 33680, states generated = 90996, states cycle check pruned = 47559, states cost bound pruned = 9757\n",
      "Solution Found with cost of 20 in search time of 0.0 sec\n",
      "Nodes expanded = 33681, states generated = 90999, states cycle check pruned = 47560, states cost bound pruned = 9758\n",
      "Solution Found with cost of 20 in search time of 0.015625 sec\n",
      "Nodes expanded = 33787, states generated = 91569, states cycle check pruned = 47866, states cost bound pruned = 9916\n",
      "Solution Found with cost of 20 in search time of 0.0 sec\n",
      "Nodes expanded = 33788, states generated = 91575, states cycle check pruned = 47868, states cost bound pruned = 9919\n",
      "Solution Found with cost of 20 in search time of 0.03125 sec\n",
      "Nodes expanded = 34039, states generated = 93314, states cycle check pruned = 48812, states cost bound pruned = 10463\n",
      "Solution Found with cost of 20 in search time of 0.0 sec\n",
      "Nodes expanded = 34040, states generated = 93317, states cycle check pruned = 48813, states cost bound pruned = 10464\n",
      "Solution Found with cost of 20 in search time of 0.015625 sec\n",
      "Nodes expanded = 34474, states generated = 95323, states cycle check pruned = 49926, states cost bound pruned = 10923\n",
      "Solution Found with cost of 20 in search time of 0.0 sec\n",
      "Nodes expanded = 34475, states generated = 95326, states cycle check pruned = 49927, states cost bound pruned = 10924\n",
      "Search Failed! No solution found.\n",
      "Nodes expanded = 41211, states generated = 114771, states cycle check pruned = 60392, states cost bound pruned = 13168\n",
      "*************************************\n",
      "PROBLEM 4\n",
      "Solution Found with cost of 41 in search time of 0.3125 sec\n",
      "Nodes expanded = 10733, states generated = 24067, states cycle check pruned = 13334, states cost bound pruned = 0\n",
      "Solution Found with cost of 41 in search time of 0.0 sec\n",
      "Nodes expanded = 10775, states generated = 24176, states cycle check pruned = 13396, states cost bound pruned = 5\n",
      "Solution Found with cost of 41 in search time of 0.015625 sec\n",
      "Nodes expanded = 10842, states generated = 24304, states cycle check pruned = 13454, states cost bound pruned = 8\n",
      "Solution Found with cost of 41 in search time of 0.0 sec\n",
      "Nodes expanded = 10936, states generated = 24547, states cycle check pruned = 13581, states cost bound pruned = 30\n",
      "Solution Found with cost of 41 in search time of 0.0 sec\n",
      "Nodes expanded = 11027, states generated = 24771, states cycle check pruned = 13703, states cost bound pruned = 41\n",
      "Solution Found with cost of 41 in search time of 0.0 sec\n",
      "Nodes expanded = 11036, states generated = 24790, states cycle check pruned = 13712, states cost bound pruned = 42\n",
      "Solution Found with cost of 41 in search time of 0.0 sec\n",
      "Nodes expanded = 11040, states generated = 24798, states cycle check pruned = 13715, states cost bound pruned = 43\n",
      "Solution Found with cost of 41 in search time of 0.0 sec\n",
      "Nodes expanded = 11078, states generated = 24921, states cycle check pruned = 13780, states cost bound pruned = 63\n",
      "Solution Found with cost of 41 in search time of 0.0 sec\n",
      "Nodes expanded = 11091, states generated = 24956, states cycle check pruned = 13798, states cost bound pruned = 67\n",
      "Solution Found with cost of 41 in search time of 0.0 sec\n",
      "Nodes expanded = 11252, states generated = 25365, states cycle check pruned = 14009, states cost bound pruned = 104\n",
      "Solution Found with cost of 41 in search time of 0.015625 sec\n",
      "Nodes expanded = 11332, states generated = 25561, states cycle check pruned = 14105, states cost bound pruned = 124\n",
      "Solution Found with cost of 41 in search time of 0.0 sec\n",
      "Nodes expanded = 11386, states generated = 25815, states cycle check pruned = 14234, states cost bound pruned = 195\n",
      "Solution Found with cost of 41 in search time of 0.0 sec\n",
      "Nodes expanded = 11411, states generated = 25947, states cycle check pruned = 14299, states cost bound pruned = 237\n",
      "Solution Found with cost of 41 in search time of 0.0 sec\n",
      "Nodes expanded = 11417, states generated = 25989, states cycle check pruned = 14319, states cost bound pruned = 253\n",
      "Solution Found with cost of 41 in search time of 0.0 sec\n",
      "Nodes expanded = 11560, states generated = 26355, states cycle check pruned = 14512, states cost bound pruned = 283\n",
      "Solution Found with cost of 41 in search time of 0.015625 sec\n",
      "Nodes expanded = 11686, states generated = 26770, states cycle check pruned = 14755, states cost bound pruned = 329\n",
      "Search Failed! No solution found.\n",
      "Nodes expanded = 17362, states generated = 42652, states cycle check pruned = 24424, states cost bound pruned = 866\n",
      "*************************************\n",
      "PROBLEM 5\n",
      "Solution Found with cost of 41 in search time of 0.390625 sec\n",
      "Nodes expanded = 10733, states generated = 24067, states cycle check pruned = 13334, states cost bound pruned = 0\n",
      "Solution Found with cost of 41 in search time of 0.0 sec\n",
      "Nodes expanded = 10775, states generated = 24176, states cycle check pruned = 13396, states cost bound pruned = 5\n",
      "Solution Found with cost of 41 in search time of 0.015625 sec\n",
      "Nodes expanded = 10842, states generated = 24304, states cycle check pruned = 13454, states cost bound pruned = 8\n",
      "Solution Found with cost of 41 in search time of 0.0 sec\n",
      "Nodes expanded = 10936, states generated = 24547, states cycle check pruned = 13581, states cost bound pruned = 30\n",
      "Solution Found with cost of 41 in search time of 0.0 sec\n",
      "Nodes expanded = 11027, states generated = 24771, states cycle check pruned = 13703, states cost bound pruned = 41\n",
      "Solution Found with cost of 41 in search time of 0.0 sec\n",
      "Nodes expanded = 11036, states generated = 24790, states cycle check pruned = 13712, states cost bound pruned = 42\n",
      "Solution Found with cost of 41 in search time of 0.0 sec\n",
      "Nodes expanded = 11040, states generated = 24798, states cycle check pruned = 13715, states cost bound pruned = 43\n",
      "Solution Found with cost of 41 in search time of 0.0 sec\n",
      "Nodes expanded = 11078, states generated = 24921, states cycle check pruned = 13780, states cost bound pruned = 63\n",
      "Solution Found with cost of 41 in search time of 0.0 sec\n",
      "Nodes expanded = 11091, states generated = 24956, states cycle check pruned = 13798, states cost bound pruned = 67\n",
      "Solution Found with cost of 41 in search time of 0.015625 sec\n",
      "Nodes expanded = 11252, states generated = 25365, states cycle check pruned = 14009, states cost bound pruned = 104\n",
      "Solution Found with cost of 41 in search time of 0.0 sec\n",
      "Nodes expanded = 11332, states generated = 25561, states cycle check pruned = 14105, states cost bound pruned = 124\n",
      "Solution Found with cost of 41 in search time of 0.0 sec\n",
      "Nodes expanded = 11386, states generated = 25815, states cycle check pruned = 14234, states cost bound pruned = 195\n",
      "Solution Found with cost of 41 in search time of 0.0 sec\n",
      "Nodes expanded = 11411, states generated = 25947, states cycle check pruned = 14299, states cost bound pruned = 237\n",
      "Solution Found with cost of 41 in search time of 0.0 sec\n",
      "Nodes expanded = 11417, states generated = 25989, states cycle check pruned = 14319, states cost bound pruned = 253\n",
      "Solution Found with cost of 41 in search time of 0.015625 sec\n",
      "Nodes expanded = 11560, states generated = 26355, states cycle check pruned = 14512, states cost bound pruned = 283\n",
      "Solution Found with cost of 41 in search time of 0.0 sec\n",
      "Nodes expanded = 11686, states generated = 26770, states cycle check pruned = 14755, states cost bound pruned = 329\n",
      "Search Failed! No solution found.\n",
      "Nodes expanded = 17362, states generated = 42652, states cycle check pruned = 24424, states cost bound pruned = 866\n",
      "*************************************\n",
      "PROBLEM 6\n",
      "TRACE: Search has exceeeded the time bound provided.\n",
      "Search Failed! No solution found.\n",
      "Nodes expanded = 200921, states generated = 458417, states cycle check pruned = 257496, states cost bound pruned = 0\n",
      "*************************************\n",
      "PROBLEM 7\n",
      "TRACE: Search has exceeeded the time bound provided.\n",
      "Search Failed! No solution found.\n",
      "Nodes expanded = 201824, states generated = 460756, states cycle check pruned = 258932, states cost bound pruned = 0\n",
      "*************************************\n",
      "PROBLEM 8\n",
      "TRACE: Search has exceeeded the time bound provided.\n",
      "Search Failed! No solution found.\n",
      "Nodes expanded = 206394, states generated = 415366, states cycle check pruned = 208972, states cost bound pruned = 0\n",
      "*************************************\n",
      "PROBLEM 9\n",
      "TRACE: Search has exceeeded the time bound provided.\n",
      "Search Failed! No solution found.\n",
      "Nodes expanded = 187708, states generated = 400477, states cycle check pruned = 212769, states cost bound pruned = 0\n",
      "*************************************\n",
      "6 of 10 problems (60.0 %) solved in less than 8 seconds.\n",
      "Problems that remain unsolved in the set are Problems: [6, 7, 8, 9]\n",
      "*************************************\n"
     ]
    }
   ],
   "source": [
    "run_astar(False)"
   ]
  },
  {
   "cell_type": "markdown",
   "metadata": {},
   "source": [
    "Compare these versions of the A* algorithm with the common version you knew before and mention its advantages."
   ]
  },
  {
   "cell_type": "code",
   "execution_count": 15,
   "metadata": {
    "collectable": true
   },
   "outputs": [],
   "source": [
    "# in case you want to draw charts for your explanation"
   ]
  },
  {
   "cell_type": "markdown",
   "metadata": {},
   "source": [
    "<font color=blue>\n",
    "    (3 Points) <br/>\n",
    "Your Explanation goes here....\n",
    "</font>"
   ]
  },
  {
   "cell_type": "markdown",
   "metadata": {},
   "source": [
    "# Q3 (25 Points)"
   ]
  },
  {
   "cell_type": "markdown",
   "metadata": {},
   "source": [
    "<font size=4>\n",
    "Authors: Amirmahdi Namjoo, Sajjad Faghfoor Maghrebi\n",
    "\t\t\t<br/>\n",
    "                <font color=red>\n",
    "Please run all the cells.\n",
    "     </font>\n",
    "</font>\n",
    "                <br/>\n",
    "    </div>"
   ]
  },
  {
   "cell_type": "code",
   "execution_count": 16,
   "metadata": {
    "collectable": true
   },
   "outputs": [],
   "source": [
    "# place for your custom functions for Q3 here"
   ]
  },
  {
   "cell_type": "markdown",
   "metadata": {},
   "source": [
    "In This Problem, We want to investigate the minimum vertex cover problem. Informally, A vertex cover is a subset of vertices that cover all the edges. i.e., for each edge, there exists an endpoint in the vertex cover. A minimum vertex cover is a vertex cover with the least amount of vertices possible.\n"
   ]
  },
  {
   "cell_type": "markdown",
   "metadata": {},
   "source": [
    "The Formal definition of the problem is as follows:\n",
    "A vertex cover $V'$ of an undirected graph $G = (V,E)$ is a subset of $V$ such that for all edge $uv \\in E \\Rightarrow u \\in V' \\vee v \\in V'$. The vertex cover with the smallest possible size is called the minimum vertex cover."
   ]
  },
  {
   "cell_type": "markdown",
   "metadata": {},
   "source": [
    "Minimum vertex cover is a famous NP-Hard optimization problem. It means that we currently don't have any polynomial-time algorithm for this problem, and we will most likely never have such an algorithm unless $P = NP$. Therefore it is reasonable to use optimization algorithms like local search to find an approximate but not necessarily perfect answer."
   ]
  },
  {
   "cell_type": "markdown",
   "metadata": {},
   "source": [
    "In this question and the next one, you should implement two different local search techniques to solve this problem: Simulated Annealing for this question and the Genetic Algorithm for the next one."
   ]
  },
  {
   "cell_type": "markdown",
   "metadata": {},
   "source": [
    "In this problem, we provide you some of the functions to solve the problem. Some of them are complete, but some are incomplete, and you should complete them."
   ]
  },
  {
   "cell_type": "markdown",
   "metadata": {},
   "source": [
    "## Libraries"
   ]
  },
  {
   "cell_type": "code",
   "execution_count": 17,
   "metadata": {
    "execution": {
     "iopub.execute_input": "2021-10-01T16:01:11.557956Z",
     "iopub.status.busy": "2021-10-01T16:01:11.556447Z",
     "iopub.status.idle": "2021-10-01T16:01:11.747409Z",
     "shell.execute_reply": "2021-10-01T16:01:11.746914Z"
    }
   },
   "outputs": [],
   "source": [
    "import numpy as np\n",
    "from math import exp\n",
    "import random\n",
    "#added\n",
    "import operator\n",
    "from random import randrange\n",
    "#\n",
    "import matplotlib.pyplot as plt\n",
    "import math"
   ]
  },
  {
   "cell_type": "markdown",
   "metadata": {},
   "source": [
    "## Graph Data\n",
    "There is a file named **create_graph.py** beside this jupyter notebook. You can generate multiple types of networks by running the file using the syntax below. It is **not** mandatory and does not have any additional score. It is just for you to test your code to see whether it works or not.\n",
    "```\n",
    "python create_graph.py\n",
    "```\n",
    "Make sure that you have the dependencies installed, especially networkx version: 2.5.1+. You can use `pip`  to install the newest version of networkx using\n",
    "```\n",
    "pip install networkx\n",
    "```\n",
    "Also, you may want to change variables m2n and n in `create_graph.py`.\n",
    "\n",
    "n is the number of nodes. m2n is roughly equal to the number of edges divided by the number of nodes.\n",
    " "
   ]
  },
  {
   "cell_type": "markdown",
   "metadata": {},
   "source": [
    "## Reading graph data"
   ]
  },
  {
   "cell_type": "markdown",
   "metadata": {},
   "source": [
    "We provide graph data in '.txt' files as an adjacency matrix. The first line indicates $n$, the number of vertices. The following $n$ lines each contain $n$ comma-separated numbers. Consider $d_{ij}$ to be the number in $i$th row and $j$th column. It is $1$ if and only if there is an edge between node $i$ and $j$, and $0$ otherwise. The function is provided completely for your comfort, and you don't need to change it."
   ]
  },
  {
   "cell_type": "code",
   "execution_count": 18,
   "metadata": {
    "execution": {
     "iopub.execute_input": "2021-10-01T16:01:11.773963Z",
     "iopub.status.busy": "2021-10-01T16:01:11.773120Z",
     "iopub.status.idle": "2021-10-01T16:01:11.830269Z",
     "shell.execute_reply": "2021-10-01T16:01:11.829966Z"
    }
   },
   "outputs": [],
   "source": [
    "\"\"\"\n",
    "No need to change this cell. You can change \"./Inputs/test-q3-q4.txt\" to test different graphs.\n",
    "\"\"\"\n",
    "\n",
    "graph_matrix =[]\n",
    "def load_data(path = \"./Inputs/test-q3-q4.txt\"):\n",
    "    with  open(path , 'r') as f:\n",
    "        lines = f.readlines()\n",
    "        number_of_vertices = int(lines[0])\n",
    "        for i in range(number_of_vertices):\n",
    "            line_split = lines[i+1].split(',');\n",
    "            graph_matrix.append([])\n",
    "            for j in range(number_of_vertices):\n",
    "                graph_matrix[i].append(int(line_split[j]))\n",
    "load_data()"
   ]
  },
  {
   "cell_type": "markdown",
   "metadata": {},
   "source": [
    "## Edge Count"
   ]
  },
  {
   "cell_type": "markdown",
   "metadata": {},
   "source": [
    "Complete the following line to find out the number of graphs edges from its adjacency matrix. It can be done in one line using NumPy."
   ]
  },
  {
   "cell_type": "code",
   "execution_count": 19,
   "metadata": {
    "collectable": true,
    "execution": {
     "iopub.execute_input": "2021-10-01T16:01:11.845894Z",
     "iopub.status.busy": "2021-10-01T16:01:11.845501Z",
     "iopub.status.idle": "2021-10-01T16:01:11.847994Z",
     "shell.execute_reply": "2021-10-01T16:01:11.847668Z"
    }
   },
   "outputs": [
    {
     "name": "stdout",
     "output_type": "stream",
     "text": [
      "23191\n"
     ]
    }
   ],
   "source": [
    "edge_count = np.sum(graph_matrix)//2 # Complete This (1 Points)\n",
    "print(edge_count)"
   ]
  },
  {
   "cell_type": "markdown",
   "metadata": {},
   "source": [
    "## State"
   ]
  },
  {
   "cell_type": "markdown",
   "metadata": {},
   "source": [
    "To use local search algorithms, we must define our state-space. As the problem is about choosing a vertex or not, we define each state as a vector $S$ of size $n$. \n",
    "\n",
    "$$\n",
    "S_i=   \\left\\{\n",
    "\\begin{array}{ll}\n",
    "      0 & \\text{vertex $v_i$ is not in vertex cover} \\\\\n",
    "      1 & \\text{vertex $v_i$ is in vertex cover}\n",
    "\\end{array} \n",
    "\\right.\n",
    "$$"
   ]
  },
  {
   "cell_type": "markdown",
   "metadata": {},
   "source": [
    "Write a function that generates a random state. i.e., it must return a boolean vector of size $n$."
   ]
  },
  {
   "cell_type": "code",
   "execution_count": 20,
   "metadata": {
    "collectable": true,
    "execution": {
     "iopub.execute_input": "2021-10-01T16:01:11.850394Z",
     "iopub.status.busy": "2021-10-01T16:01:11.850091Z",
     "iopub.status.idle": "2021-10-01T16:01:11.852019Z",
     "shell.execute_reply": "2021-10-01T16:01:11.851706Z"
    }
   },
   "outputs": [],
   "source": [
    "def random_state_generator(n):\n",
    "    options = [True, False]\n",
    "    return np.random.choice(options, size=n)\n",
    "\n",
    "    ##################################################################\n",
    "    # (1 Points)                                                     #\n",
    "    # This function get input n, number of edges? vertices?          #\n",
    "    # and generates and returns a random boolean vector (list)       #\n",
    "    # as described above                                             #\n",
    "    ##################################################################"
   ]
  },
  {
   "cell_type": "markdown",
   "metadata": {},
   "source": [
    "We must also define the neighbor state. We can use multiple definitions for neighbor states, But here we use a simple one. Two states are neighbors if and only if they differ in just one element. Complete the following function, which gets a state and returns a new state by randomly choosing one element in the previous state and changing it from $0$ to $1$ or $1$ to $0$.\n",
    "\n",
    "It is strongly recommended that you return the index of the changed element and its value, as you will likely need that later."
   ]
  },
  {
   "cell_type": "code",
   "execution_count": 21,
   "metadata": {
    "collectable": true,
    "execution": {
     "iopub.execute_input": "2021-10-01T16:01:11.855751Z",
     "iopub.status.busy": "2021-10-01T16:01:11.855445Z",
     "iopub.status.idle": "2021-10-01T16:01:11.857199Z",
     "shell.execute_reply": "2021-10-01T16:01:11.856886Z"
    }
   },
   "outputs": [],
   "source": [
    "def neighbour_state_generator(state):\n",
    "    new_state = state.copy()\n",
    "    vertex_to_change = random.randint(0,len(new_state)-1)\n",
    "    previous_value = new_state[vertex_to_change]\n",
    "    new_state[vertex_to_change] = not(previous_value) #if False(0) then True(1) else False(0)\n",
    "    return new_state, previous_value, vertex_to_change\n",
    "\n",
    "    ##################################################################\n",
    "    # (2 Points)                                                     #\n",
    "    # This function gets a list state,                               #\n",
    "    # and generates and returns:                                     #\n",
    "    # 1. a new neighbour state                                       #\n",
    "    # 2. previous value of the list element that changed             #\n",
    "    # 3. the index of the value that changed                         #\n",
    "    ##################################################################"
   ]
  },
  {
   "cell_type": "markdown",
   "metadata": {},
   "source": [
    "## Cost Function"
   ]
  },
  {
   "cell_type": "markdown",
   "metadata": {},
   "source": [
    "We must also define a cost function to evaluate each state. There are many ways to define a cost function for the vertex cover problem. Here we propose a cost function that works well with the problem. You could use other cost functions if you believe they work better. \n",
    "\n",
    "Our Proposed cost function is:\n",
    "\n",
    "$C(s)=A*\\sum_{i=1}^{n} s_{i}+ B*\\sum_{i=1}^{n} \\sum_{j=1}^{n} \\mathrm{~d}_{i j} \\overline{s_{i} \\vee s_{j}}$\n",
    "\n",
    "Here, $s_i$ is the $i\\text{th}$ element of state vector. $\\overline{s_{i} \\vee s_{j}}$ is logical NOR of $v_i$ and $v_j$.\n",
    "\n",
    "$A$ and $B$ are two arbitrary constants. Usually $A=1$ and $B=1$, but you could use other values.\n",
    "\n",
    "Note that the formula above uses a 1-based index as a mathematical equation, but Python uses a 0-based index."
   ]
  },
  {
   "cell_type": "code",
   "execution_count": 22,
   "metadata": {
    "collectable": true,
    "execution": {
     "iopub.execute_input": "2021-10-01T16:01:11.860087Z",
     "iopub.status.busy": "2021-10-01T16:01:11.859785Z",
     "iopub.status.idle": "2021-10-01T16:01:11.861494Z",
     "shell.execute_reply": "2021-10-01T16:01:11.861185Z"
    }
   },
   "outputs": [],
   "source": [
    "def cost_function(graph_matrix,state , A = 1 , B=1):\n",
    "    #first_term = 0\n",
    "    #second_term = 0\n",
    "    #for i in range(len(state)):\n",
    "    #    for j in range(len(state)):\n",
    "    #        second_term = second_term + NOR(state[i],state[j])*graph_matrix[i][j]\n",
    "    #    first_term = first_term + state[i]\n",
    "    #cost = A * first_term + B * second_term   \n",
    "    #return cost\n",
    "    ### Ali Abbasi helped me to change this function(to make it run faster)\n",
    "    return A * sum(state) + B * np.count_nonzero((np.dot(~np.array([state]).T, ~np.array([state]))) * graph_matrix)\n",
    "\n",
    "    ##################################################################\n",
    "    # (2 Points)                                                     #\n",
    "    # This function gets a state and graph matrix,                   #\n",
    "    # and two optional coefficients A and B,                         #\n",
    "    # and calculates the cost of this state                          #\n",
    "    ##################################################################  "
   ]
  },
  {
   "cell_type": "markdown",
   "metadata": {},
   "source": [
    "## Simulated Annealing"
   ]
  },
  {
   "cell_type": "markdown",
   "metadata": {},
   "source": [
    "Now comes the central part. Simulated annealing is somehow like normal hill-climbing, but with a small but significant change. In each iteration of Simulated Annealing, we calculate the cost of this new state after generating a neighbor state. If it is better than the current state, we accept it and use it as the new current state. But if it is worse than the current state, we calculate an acceptance probability and accept it based on this probability.\n",
    "\n",
    "Usually, $P = e^{-\\frac{\\Delta C}{T}}$ is used for acceptance probability, in which $\\Delta C$ is the cost difference between the new state and previous state. $T$ is a positive parameter called Temperature. At first, it is initialized based on the problem domain. After each iteration, it is multiplied by a factor of $\\alpha<1$ to make it smaller. The point of using $T$ is to allow more random perturbations at the start of the algorithm to prevent getting stuck in a local extremum.\n",
    "\n",
    "For the vertex cover problem, there exist better acceptance probability equations. We consider one here, but you are free to use other equation.\n",
    "\n",
    "\n"
   ]
  },
  {
   "cell_type": "markdown",
   "metadata": {},
   "source": [
    "### Vertex Cover Probability Acceptance Equation"
   ]
  },
  {
   "cell_type": "markdown",
   "metadata": {},
   "source": [
    "Let $s$ be current state and $s'$ be a neighbour state that has worse cost function that $s$. Also suppose that only $i$th element is different between $s$ and $s'$. For calculating acceptance probability of $s'$ we use this equation: \n",
    "\n",
    "\n",
    "$$p= \\begin{cases}\\mathrm{e}^{-\\frac{\\Delta F\\left(1-D e g\\left(s_{i}\\right)\\right)}{T}} & s_{i}=1 \\\\ \\mathrm{e}^{-\\frac{\\Delta F\\left(1+D e g\\left(s_{i}\\right)\\right)}{T}} & s_{i}=0\\end{cases}$$\n",
    "in which\n",
    "$$\\operatorname{Deg}\\left({i}\\right)=\\frac{\\operatorname{Degree}(i)}{E d g e N u m}$$\n",
    "\n",
    "Note that $Deg(s_i)$ is actually independent of state and can be calculated beforehand for each vertex."
   ]
  },
  {
   "cell_type": "markdown",
   "metadata": {},
   "source": [
    "Complete the line bellow the make an array named 'deg', in which $i$th element corresponds to $Deg(i)$"
   ]
  },
  {
   "cell_type": "code",
   "execution_count": 23,
   "metadata": {
    "collectable": true,
    "execution": {
     "iopub.execute_input": "2021-10-01T16:01:11.876774Z",
     "iopub.status.busy": "2021-10-01T16:01:11.876430Z",
     "iopub.status.idle": "2021-10-01T16:01:11.878325Z",
     "shell.execute_reply": "2021-10-01T16:01:11.878008Z"
    },
    "scrolled": true
   },
   "outputs": [],
   "source": [
    "deg = (np.sum(graph_matrix,axis = 1)/edge_count)#Complete This (2 Points)"
   ]
  },
  {
   "cell_type": "markdown",
   "metadata": {},
   "source": [
    "Now complete the function 'prob_accept' that gets current and next state costs and other related information and returns the probability of acceptance of the next state."
   ]
  },
  {
   "cell_type": "code",
   "execution_count": 24,
   "metadata": {
    "collectable": true,
    "execution": {
     "iopub.execute_input": "2021-10-01T16:01:11.881244Z",
     "iopub.status.busy": "2021-10-01T16:01:11.880931Z",
     "iopub.status.idle": "2021-10-01T16:01:11.882621Z",
     "shell.execute_reply": "2021-10-01T16:01:11.882303Z"
    }
   },
   "outputs": [],
   "source": [
    "def prob_accept(diff_cost,vertex_to_change,previous_value,T):\n",
    "    if previous_value:\n",
    "        return math.exp(-(diff_cost*(1-deg[vertex_to_change]))/T)\n",
    "    else:\n",
    "        return math.exp(-(diff_cost*(1+deg[vertex_to_change]))/T)\n",
    "    \n",
    "    ##################################################################\n",
    "    # (3 Points)                                                     #\n",
    "    # This function is going to calculate the acceptance probability #\n",
    "    # Feel free to Pass any parameters needed.                       #\n",
    "    ##################################################################"
   ]
  },
  {
   "cell_type": "markdown",
   "metadata": {},
   "source": [
    "Now Implement a function called 'accept'. This function gets the current state and next state and other required parameters as input and outputs True or False to identify whether we should accept the next state or not."
   ]
  },
  {
   "cell_type": "code",
   "execution_count": 25,
   "metadata": {
    "collectable": true,
    "execution": {
     "iopub.execute_input": "2021-10-01T16:01:11.885496Z",
     "iopub.status.busy": "2021-10-01T16:01:11.885184Z",
     "iopub.status.idle": "2021-10-01T16:01:11.886861Z",
     "shell.execute_reply": "2021-10-01T16:01:11.886539Z"
    }
   },
   "outputs": [],
   "source": [
    "def accept(diff_cost , vertex_to_change, previous_value,T):\n",
    "    probability = prob_accept(diff_cost,vertex_to_change,previous_value,T)\n",
    "    return np.random.choice((True,False),p=[probability,1-probability])    #p(True) = p(accept)\n",
    "\n",
    "    #################################################################################\n",
    "    # (5 Points)                                                                    #\n",
    "    # This function gest current and probable next state and                        #\n",
    "    # other neccessary parameters and returns                                       #\n",
    "    # True or False to indicate whether we should accept the next state or not      #\n",
    "    #################################################################################"
   ]
  },
  {
   "cell_type": "markdown",
   "metadata": {},
   "source": [
    "Now Implement the main 'anneal' function that performs the algorithm. Try to experiment with different initial T and $alpha$ values to get the best result. Also, your function must implement these two stop criteria:\n",
    "\n",
    "- If the number of iterations exceeded 'stopping_iter', stop.\n",
    "- If the temperature drops below 'stopping_temprature', stop.\n",
    "\n",
    "Also, the cost_list array is defined before the function. Append the cost of the best solution found after each iteration to this array. Also, print out the best solution and the best cost obtained."
   ]
  },
  {
   "cell_type": "code",
   "execution_count": 26,
   "metadata": {
    "execution": {
     "iopub.execute_input": "2021-10-01T16:01:11.890951Z",
     "iopub.status.busy": "2021-10-01T16:01:11.890625Z",
     "iopub.status.idle": "2021-10-01T16:01:11.892373Z",
     "shell.execute_reply": "2021-10-01T16:01:11.892053Z"
    }
   },
   "outputs": [],
   "source": [
    "cost_list = []\n",
    "\n",
    "def anneal(\n",
    "    graph_matrix, stopping_temperature=1e-8, stopping_iter=2000, alpha=0.99, T=50\n",
    "):\n",
    "    current_state = random_state_generator(len(graph_matrix))\n",
    "    iterations = 0\n",
    "    while(iterations<stopping_iter and T>stopping_temperature):\n",
    "        new_state, previous_value, vertex_to_change= neighbour_state_generator(current_state)\n",
    "        c_1 = cost_function(graph_matrix,current_state)\n",
    "        c_2 = cost_function(graph_matrix,new_state)\n",
    "        diff_cost = c_2 - c_1\n",
    "        if diff_cost < 0 or accept(diff_cost,vertex_to_change, previous_value,T):\n",
    "            current_state = new_state\n",
    "            cost_list.append(c_2)\n",
    "        else:\n",
    "            cost_list.append(c_1)\n",
    "        iterations = iterations + 1\n",
    "        T = alpha * T\n",
    "    best_solution = current_state\n",
    "    best_cost = cost_list[len(cost_list)-1]\n",
    "    return best_solution, best_cost\n",
    "\n",
    "    ###################################################################\n",
    "    # (8 Points)                                                      #\n",
    "    # Main Function. It gets the matrix, stopping tempratue,          #\n",
    "    # stopping iteration count, alpha and tempratue                   #\n",
    "    # And run the main algorithm. It should fill the cost list array  #\n",
    "    # and also return the best solution and best cost                 #\n",
    "    ###################################################################"
   ]
  },
  {
   "cell_type": "code",
   "execution_count": 27,
   "metadata": {
    "execution": {
     "iopub.execute_input": "2021-10-01T16:01:11.965399Z",
     "iopub.status.busy": "2021-10-01T16:01:11.929755Z",
     "iopub.status.idle": "2021-10-01T16:01:12.537930Z",
     "shell.execute_reply": "2021-10-01T16:01:12.537599Z"
    }
   },
   "outputs": [],
   "source": [
    "best_sol_SA, best_cost_SA = anneal(\n",
    "    graph_matrix,\n",
    ")"
   ]
  },
  {
   "cell_type": "code",
   "execution_count": 28,
   "metadata": {
    "execution": {
     "iopub.execute_input": "2021-10-01T16:01:12.542154Z",
     "iopub.status.busy": "2021-10-01T16:01:12.541828Z",
     "iopub.status.idle": "2021-10-01T16:01:12.543769Z",
     "shell.execute_reply": "2021-10-01T16:01:12.543444Z"
    },
    "scrolled": true
   },
   "outputs": [
    {
     "data": {
      "text/plain": [
       "array([ True,  True,  True,  True,  True,  True,  True,  True,  True,\n",
       "        True,  True,  True,  True,  True,  True,  True,  True,  True,\n",
       "        True,  True,  True,  True,  True,  True,  True,  True,  True,\n",
       "        True,  True,  True,  True,  True,  True,  True,  True,  True,\n",
       "        True,  True,  True,  True,  True,  True,  True,  True,  True,\n",
       "        True,  True,  True,  True,  True,  True,  True,  True,  True,\n",
       "        True,  True,  True,  True,  True,  True,  True,  True, False,\n",
       "        True,  True,  True,  True,  True,  True,  True,  True,  True,\n",
       "        True,  True,  True,  True,  True,  True,  True,  True,  True,\n",
       "        True,  True,  True,  True, False,  True,  True,  True,  True,\n",
       "        True,  True,  True,  True,  True,  True,  True,  True,  True,\n",
       "        True,  True,  True,  True,  True,  True,  True,  True,  True,\n",
       "        True,  True,  True,  True,  True,  True,  True,  True,  True,\n",
       "        True,  True,  True,  True,  True,  True,  True,  True,  True,\n",
       "        True,  True,  True,  True,  True,  True,  True,  True,  True,\n",
       "        True,  True,  True,  True,  True,  True,  True,  True,  True,\n",
       "        True,  True,  True,  True,  True,  True,  True,  True,  True,\n",
       "        True,  True,  True,  True,  True,  True,  True, False,  True,\n",
       "        True,  True,  True,  True,  True,  True,  True,  True,  True,\n",
       "        True,  True,  True,  True,  True,  True,  True,  True,  True,\n",
       "        True,  True,  True,  True,  True,  True,  True,  True,  True,\n",
       "        True,  True,  True,  True,  True,  True,  True,  True,  True,\n",
       "        True,  True,  True,  True,  True,  True,  True,  True,  True,\n",
       "        True,  True,  True,  True,  True,  True,  True,  True,  True,\n",
       "        True,  True,  True,  True,  True,  True,  True,  True,  True,\n",
       "        True,  True,  True,  True,  True,  True,  True,  True,  True,\n",
       "        True,  True,  True,  True,  True,  True,  True,  True,  True,\n",
       "        True,  True,  True,  True,  True,  True,  True,  True,  True,\n",
       "        True,  True,  True,  True,  True,  True,  True,  True,  True,\n",
       "        True,  True,  True,  True, False,  True,  True,  True,  True,\n",
       "        True,  True,  True,  True,  True,  True,  True,  True,  True,\n",
       "        True,  True,  True,  True,  True,  True,  True,  True,  True,\n",
       "        True,  True,  True,  True,  True,  True,  True,  True,  True,\n",
       "        True,  True,  True,  True,  True,  True,  True,  True,  True,\n",
       "       False,  True,  True,  True,  True,  True,  True,  True,  True,\n",
       "        True,  True,  True,  True,  True,  True,  True,  True,  True,\n",
       "        True,  True,  True,  True,  True,  True,  True,  True,  True,\n",
       "        True,  True,  True,  True,  True,  True,  True,  True,  True,\n",
       "        True, False,  True,  True,  True,  True,  True,  True,  True,\n",
       "        True,  True,  True,  True,  True,  True,  True,  True,  True,\n",
       "        True,  True,  True,  True,  True,  True,  True,  True,  True,\n",
       "        True,  True,  True,  True,  True,  True,  True,  True,  True,\n",
       "        True,  True,  True,  True,  True,  True,  True,  True,  True,\n",
       "        True,  True,  True,  True,  True,  True,  True,  True,  True,\n",
       "       False,  True,  True,  True,  True,  True,  True,  True,  True,\n",
       "        True,  True,  True,  True,  True,  True,  True,  True,  True,\n",
       "        True,  True,  True,  True,  True,  True,  True,  True,  True,\n",
       "        True,  True,  True,  True,  True,  True,  True,  True,  True,\n",
       "        True,  True,  True,  True,  True,  True,  True,  True,  True,\n",
       "        True,  True,  True,  True,  True,  True,  True,  True,  True,\n",
       "        True,  True,  True,  True,  True,  True,  True,  True,  True,\n",
       "        True,  True,  True,  True,  True,  True,  True,  True,  True,\n",
       "        True,  True,  True,  True,  True,  True,  True,  True,  True,\n",
       "        True,  True,  True,  True,  True,  True,  True,  True,  True,\n",
       "        True,  True,  True,  True,  True,  True,  True,  True,  True,\n",
       "        True,  True,  True,  True,  True])"
      ]
     },
     "execution_count": 28,
     "metadata": {},
     "output_type": "execute_result"
    }
   ],
   "source": [
    "best_sol_SA"
   ]
  },
  {
   "cell_type": "markdown",
   "metadata": {},
   "source": [
    "Plot the cost vs. iteration graph."
   ]
  },
  {
   "cell_type": "code",
   "execution_count": 29,
   "metadata": {
    "collectable": true,
    "execution": {
     "iopub.execute_input": "2021-10-01T16:01:12.554088Z",
     "iopub.status.busy": "2021-10-01T16:01:12.553664Z",
     "iopub.status.idle": "2021-10-01T16:01:12.646984Z",
     "shell.execute_reply": "2021-10-01T16:01:12.646640Z"
    }
   },
   "outputs": [
    {
     "data": {
      "image/png": "[encoded data removed]",
      "text/plain": [
       "<Figure size 432x288 with 1 Axes>"
      ]
     },
     "metadata": {
      "needs_background": "light"
     },
     "output_type": "display_data"
    }
   ],
   "source": [
    "def plot_cost(cost_list):\n",
    "    plt.plot(cost_list)\n",
    "    ###################################################################\n",
    "    # (1 Points)                                                      #\n",
    "    # This functions gets the cost_list array and plot                #\n",
    "    # cost vs. iteration                                              #\n",
    "    ###################################################################\n",
    "\n",
    "plot_cost(cost_list)"
   ]
  },
  {
   "cell_type": "markdown",
   "metadata": {},
   "source": [
    "# Q4 (25 Points)"
   ]
  },
  {
   "cell_type": "markdown",
   "metadata": {},
   "source": [
    "<font size=4>\n",
    "Authors: Amirmahdi Namjoo, Sajjad Faghfoor Maghrebi\n",
    "\t\t\t<br/>\n",
    "                <font color=red>\n",
    "Please run all the cells.\n",
    "     </font>\n",
    "</font>\n",
    "                <br/>\n",
    "    </div>"
   ]
  },
  {
   "cell_type": "code",
   "execution_count": 30,
   "metadata": {
    "collectable": true
   },
   "outputs": [],
   "source": [
    "# place for your custom functions for Q4 here\n",
    "\n",
    "\"\"\"\n",
    "No need to change this cell. You can change \"./Inputs/test-q3-q4.txt\" to test different graphs.\n",
    "\"\"\"\n",
    "\n",
    "graph_matrix =[]\n",
    "def load_data(path = \"./Inputs/test-q3-q4.txt\"):\n",
    "    with  open(path , 'r') as f:\n",
    "        lines = f.readlines()\n",
    "        number_of_vertices = int(lines[0])\n",
    "        for i in range(number_of_vertices):\n",
    "            line_split = lines[i+1].split(',');\n",
    "            graph_matrix.append([])\n",
    "            for j in range(number_of_vertices):\n",
    "                graph_matrix[i].append(int(line_split[j]))\n",
    "load_data()\n",
    "\n",
    "def cost_function_per_state(graph_matrix,state , A = 1 , B = 5):\n",
    "    return A * sum(state) + B * np.count_nonzero((np.dot(~np.array([state]).T, ~np.array([state]))) * graph_matrix)"
   ]
  },
  {
   "cell_type": "markdown",
   "metadata": {},
   "source": [
    "In this problem, we will tackle the vertex cover problem with a genetic algorithm. Cost function and state-space representation will be the same as the previous question. "
   ]
  },
  {
   "cell_type": "markdown",
   "metadata": {},
   "source": [
    "## Population Generation\n",
    "\n",
    "The first step of the genetic algorithm is to generate an initial population of different states (chromosomes).\n",
    "\n",
    "Complete the following function. It must generate a population of size $k$ for a graph with $n$ vertices."
   ]
  },
  {
   "cell_type": "code",
   "execution_count": 31,
   "metadata": {
    "collectable": true,
    "execution": {
     "iopub.execute_input": "2021-10-01T16:01:12.649651Z",
     "iopub.status.busy": "2021-10-01T16:01:12.649332Z",
     "iopub.status.idle": "2021-10-01T16:01:12.650895Z",
     "shell.execute_reply": "2021-10-01T16:01:12.651148Z"
    }
   },
   "outputs": [],
   "source": [
    "def population_generation(n, k): \n",
    "    options = [True, False]\n",
    "    return np.array(np.random.choice(options,size=(k,n)))\n",
    "\n",
    "    ###################################################################\n",
    "    # (1 Points)                                                      #\n",
    "    # Returns a population of size k for a graph with n vertices      #\n",
    "    ###################################################################"
   ]
  },
  {
   "cell_type": "markdown",
   "metadata": {},
   "source": [
    "## Cost Function\n",
    "\n",
    "For cost function, we use another, more simple formula for this problem. Because the Genetic algorithm tends to run much longer than simulated annealing, we prefer to use a more simple cost function for this problem.\n",
    "\n",
    "The cost function for this problem is as follows:\n",
    "- Add 1 to the cost for each vertex in the answer\n",
    "- Add 5 (or any other number you prefer) to the cost for each edge that is not covered."
   ]
  },
  {
   "cell_type": "code",
   "execution_count": 32,
   "metadata": {
    "collectable": true
   },
   "outputs": [],
   "source": [
    "def cost_function2(graph,state):\n",
    "    return cost_function_per_state(graph,state)\n",
    "\n",
    "    ##################################################################\n",
    "    # (1 Points)                                                     #\n",
    "    # This function gets a state and graph matrix,                   #\n",
    "    # and calculates the cost of this state                          #\n",
    "    ##################################################################"
   ]
  },
  {
   "cell_type": "markdown",
   "metadata": {},
   "source": [
    "## Selection\n",
    "\n",
    "\n",
    "We select the best chromosomes (states) in the selection phase and allow them to pass to the next generation (iteration). Others will be discarded.\n",
    "\n",
    "For this part, we use a procedure named \"tournament selection.\" In this procedure, we divide match each element in population with another one and compare their cost. The winner is the one that has a lower cost, and it gets selected for the next part, and the others are discarded."
   ]
  },
  {
   "cell_type": "code",
   "execution_count": 33,
   "metadata": {
    "collectable": true,
    "execution": {
     "iopub.execute_input": "2021-10-01T16:01:12.654554Z",
     "iopub.status.busy": "2021-10-01T16:01:12.654249Z",
     "iopub.status.idle": "2021-10-01T16:01:12.655998Z",
     "shell.execute_reply": "2021-10-01T16:01:12.655682Z"
    }
   },
   "outputs": [],
   "source": [
    "def tournament_selection(graph, population ,cost_list):\n",
    "    #cost_list_1 = [] consider cost_list as input to make program run faster\n",
    "    index = len(population)//2\n",
    "    for i in range(len(population)//2):\n",
    "        if cost_list[i] > cost_list[index+i]:\n",
    "            population[i] = population[index+i]   \n",
    "    return population #just first half of population is valid\n",
    "\n",
    "    ##################################################################\n",
    "    # (5 Points)                                                     #\n",
    "    # This function gets the population and graph matrix,            #\n",
    "    # and generates and returns a new population using               #\n",
    "    # tournament selection                                           #\n",
    "    ##################################################################"
   ]
  },
  {
   "cell_type": "markdown",
   "metadata": {},
   "source": [
    "## Crossover"
   ]
  },
  {
   "cell_type": "markdown",
   "metadata": {},
   "source": [
    "In the crossover phase, we combine two chromosomes to get a better chromosome (solution). There are lots of ways to implement crossover. For this problem, we propose this method:\n",
    "\n",
    "Take two chromosomes as input. Generate a random 'index'. The resulting chromosome consists of genes from chromosome1 from 0 up until 'index' and genes from chromosome2 from 'index+1' until the end. Another chromosome is generated by swapping chromosome1 and chromosome2 and doint the same procedure. "
   ]
  },
  {
   "cell_type": "code",
   "execution_count": 34,
   "metadata": {
    "collectable": true
   },
   "outputs": [],
   "source": [
    "def crossover(graph, parent1, parent2):\n",
    "    index = random.randint(0,len(parent1)-1)\n",
    "    child1 = np.concatenate([parent1[0:index + 1],parent2[index+1:len(parent2)]])\n",
    "    child2 = np.concatenate([parent2[0:index + 1],parent1[index+1:len(parent2)]])\n",
    "    return child1, child2\n",
    "\n",
    "    ##################################################################\n",
    "    # (5 Points)                                                     #\n",
    "    # This function gets the graph matrix and two parents            #\n",
    "    # and generates and returns two new childs using crossover       #\n",
    "    ##################################################################"
   ]
  },
  {
   "cell_type": "markdown",
   "metadata": {},
   "source": [
    "## Mutation"
   ]
  },
  {
   "cell_type": "markdown",
   "metadata": {},
   "source": [
    "In the mutation part of this problem, we take chromosomes coming out of Crossover and change them slightly in the hope of getting better. There are many ways to implement mutation. We propose two methods here. You can implement each one of them or even both.\n",
    "\n",
    "For this part, we generate a random number. If this number is greater than the mutation probability, we choose a random index in the chromosome and change it from '0' to '1' or '1' to '0'."
   ]
  },
  {
   "cell_type": "code",
   "execution_count": 35,
   "metadata": {
    "collectable": true
   },
   "outputs": [],
   "source": [
    "def mutation(graph,chromosme,probability):\n",
    "    p = random.uniform(0, 1)\n",
    "    if p>probability:\n",
    "        index = random.randint(0,len(chromosme)-1)\n",
    "        chromosme[index] = not chromosme[index]\n",
    "        \n",
    "    ##################################################################\n",
    "    # (5 Points)                                                     #\n",
    "    # This function gets the  graph matrix, chromosome, and          #\n",
    "    # mutation probabiltiy and generate a new chromosome using       #\n",
    "    # mutation                                                       #\n",
    "    ##################################################################"
   ]
  },
  {
   "cell_type": "markdown",
   "metadata": {},
   "source": [
    "## Main Algorithm\n",
    "\n",
    "Now implement the main 'genetic_algorithm' function."
   ]
  },
  {
   "cell_type": "code",
   "execution_count": 36,
   "metadata": {
    "collectable": true,
    "execution": {
     "iopub.execute_input": "2021-10-01T16:01:12.669076Z",
     "iopub.status.busy": "2021-10-01T16:01:12.668757Z",
     "iopub.status.idle": "2021-10-01T16:01:12.670566Z",
     "shell.execute_reply": "2021-10-01T16:01:12.670252Z"
    }
   },
   "outputs": [],
   "source": [
    "def genetic_algorithm(graph_matrix,mutation_probability=0.1,pop_size=100,max_generation=100):\n",
    "    current_population = population_generation(len(graph_matrix), pop_size)\n",
    "    iterations = 0\n",
    "    best_cost = math.inf\n",
    "    best_solution = None\n",
    "    mid = pop_size//2\n",
    "\n",
    "    for j in range(pop_size):\n",
    "        cost = cost_function2(graph_matrix, current_population[j])\n",
    "        cost_list[j]=cost\n",
    "    \n",
    "    while(iterations < max_generation):\n",
    "        current_population = tournament_selection(graph_matrix, current_population,cost_list) #just half of the population array is valid\n",
    "        for i in range(pop_size//4): #assume pop_size is divisible by 4\n",
    "            child1, child2 = crossover(graph_matrix, current_population[2*i], current_population[2*i+1])\n",
    "            current_population[mid+2*i] = child1\n",
    "            current_population[mid+2*i+1] = child2\n",
    "        for j in range(pop_size):\n",
    "            mutation(graph_matrix,current_population[j],mutation_probability)\n",
    "        for j in range(pop_size):\n",
    "            cost = cost_function2(graph_matrix, current_population[j])\n",
    "            cost_list[j]=cost\n",
    "            if(cost < best_cost):\n",
    "                best_cost = cost\n",
    "                best_solution = current_population[j]    \n",
    "        iterations += 1  \n",
    "    return best_cost,best_solution\n",
    "      \n",
    "    ###################################################################################\n",
    "    # (8 Points)                                                                      #\n",
    "    # The main genetic algorithm function                                             #\n",
    "    # it gets graph matrix as mandatory input and                                     #\n",
    "    # mutation probability, population size and maximum generation as optional input  #\n",
    "    # And runs the algorithm and returns the best solution and best cost              #\n",
    "    ###################################################################################"
   ]
  },
  {
   "cell_type": "code",
   "execution_count": 37,
   "metadata": {
    "execution": {
     "iopub.execute_input": "2021-10-01T16:01:12.672705Z",
     "iopub.status.busy": "2021-10-01T16:01:12.672403Z",
     "iopub.status.idle": "2021-10-01T16:01:36.760222Z",
     "shell.execute_reply": "2021-10-01T16:01:36.759945Z"
    }
   },
   "outputs": [
    {
     "name": "stdout",
     "output_type": "stream",
     "text": [
      "24536\n"
     ]
    }
   ],
   "source": [
    "best_cost_GA, best_sol_GA = genetic_algorithm(graph_matrix)\n",
    "print(best_cost_GA)"
   ]
  },
  {
   "cell_type": "markdown",
   "metadata": {},
   "source": [
    "## Run Tests (not for you)"
   ]
  },
  {
   "cell_type": "code",
   "execution_count": null,
   "metadata": {
    "execution": {
     "iopub.execute_input": "2021-10-01T16:01:36.768478Z",
     "iopub.status.busy": "2021-10-01T16:01:36.768062Z",
     "iopub.status.idle": "2021-10-01T16:01:36.769915Z",
     "shell.execute_reply": "2021-10-01T16:01:36.770202Z"
    }
   },
   "outputs": [],
   "source": [
    "# Do not change this cell. (Your answers won't be graded)\n",
    "# Do not run this cell.\n",
    "import os\n",
    "import json\n",
    "\n",
    "directory = \"./../tests4VC/\"\n",
    "for filename in os.listdir(directory):\n",
    "    print(filename)\n",
    "    graph_matrix = []\n",
    "    load_data(path=directory + filename)\n",
    "\n",
    "    cost_list = []\n",
    "    best_cost_GA, best_sol_GA = genetic_algorithm(graph_matrix)\n",
    "    best_sol_SA, best_cost_SA = anneal(\n",
    "        graph_matrix,\n",
    "    )\n",
    "\n",
    "    result_ga = {\n",
    "        \"ga_cost_\" + filename: int(best_cost_GA),\n",
    "        \"ga_sol_\" + filename: list(map(int, best_sol_GA)),\n",
    "    }\n",
    "\n",
    "    result_sa = {\n",
    "        \"sa_cost_\" + filename: int(best_cost_SA),\n",
    "        \"sa_sol_\" + filename: list(map(int, best_sol_SA)),\n",
    "    }\n",
    "\n",
    "file_path = os.path.join(\n",
    "    os.getenv(\"OUTPUT_DIR\", \"..\"), \"{}.json\".format(student_number)\n",
    ")\n",
    "\n",
    "with open(file_path, \"w\") as file:\n",
    "    json.dump(\n",
    "        {\n",
    "            \"ga\": result_ga,\n",
    "            \"sa\": result_sa,\n",
    "        },\n",
    "        file,\n",
    "    )"
   ]
  }
 ],
 "metadata": {
  "interpreter": {
   "hash": "f336af7d54ba0f0c1daaf2256eb85f31e983e88153daf7a27ef3ea6c724faba4"
  },
  "kernelspec": {
   "display_name": "Python 3 (ipykernel)",
   "language": "python",
   "name": "python3"
  },
  "language_info": {
   "codemirror_mode": {
    "name": "ipython",
    "version": 3
   },
   "file_extension": ".py",
   "mimetype": "text/x-python",
   "name": "python",
   "nbconvert_exporter": "python",
   "pygments_lexer": "ipython3",
   "version": "3.9.7"
  }
 },
 "nbformat": 4,
 "nbformat_minor": 4
}
